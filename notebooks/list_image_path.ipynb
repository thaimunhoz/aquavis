{
 "cells": [
  {
   "cell_type": "code",
   "execution_count": 28,
   "id": "initial_id",
   "metadata": {
    "collapsed": true,
    "ExecuteTime": {
     "end_time": "2024-12-23T14:52:08.337790200Z",
     "start_time": "2024-12-23T14:52:07.513838900Z"
    }
   },
   "outputs": [
    {
     "name": "stdout",
     "output_type": "stream",
     "text": [
      "Found 61 images for tile 15RYN\n",
      "Found 26 images for tile 18TXL\n",
      "Found 57 images for tile 21HVB\n",
      "Found 27 images for tile 31UDT\n",
      "Found 25 images for tile 35TPK\n",
      "Found 41 images for tile 35VLG\n",
      "Found 27 images for tile 51XSB\n"
     ]
    }
   ],
   "source": [
    "import os\n",
    "import ast\n",
    "import datetime\n",
    "import pandas as pd\n",
    "from typing import List\n",
    "\n",
    "select_sat = 'sentinel'\n",
    "period = ('20230101', '20231231')\n",
    "main_folder = r'Z:\\guser\\tml\\mypapers\\HLS_package_paper\\sentinel_toa'\n",
    "output_dir = r'Z:\\guser\\tml\\mypapers\\HLS_package_paper\\sentinel_toa'\n",
    "sentinel_tile_mapping = pd.read_csv(r'C:\\Users\\tml411\\Documents\\Python Scripts\\hls_water\\src\\satwater\\auxfiles\\tiles\\sentinel_landsat_intersections.csv')\n",
    "\n",
    "tiles = os.listdir(main_folder)\n",
    "\n",
    "paths_table = pd.DataFrame(columns=['tile', 'path', 'output_path'])\n",
    "\n",
    "def check_date_range(all_imgs: List[str], dates_period: List[str], select_sat: str = 'landsat') -> List[str]:\n",
    "\n",
    "    \"\"\"\n",
    "    Filter images based on whether their dates fall within a given date range.\n",
    "\n",
    "    Args:\n",
    "        all_imgs (list): List of image file paths.\n",
    "        dates_period (list): Start and end dates in the format ['YYYYMMDD', 'YYYYMMDD'].\n",
    "        select_sat (str): Satellite type ('landsat' or 'sentinel').\n",
    "\n",
    "    Returns:\n",
    "        list: Filtered list of image file paths within the date range.\n",
    "    \"\"\"\n",
    "\n",
    "    filtered_imgs = []\n",
    "    start_date = datetime.datetime.strptime(dates_period[0], '%Y%m%d')\n",
    "    end_date = datetime.datetime.strptime(dates_period[1], '%Y%m%d')\n",
    "\n",
    "    for img in all_imgs:\n",
    "        # Extract the date string from the image filename\n",
    "        if select_sat == 'sentinel':\n",
    "            date_str = os.path.basename(img).split('_')[2].split('T')[0]\n",
    "        else:\n",
    "            date_str = os.path.basename(img).split('_')[3]\n",
    "\n",
    "        # Convert date string to datetime object\n",
    "        img_date = datetime.datetime.strptime(date_str, '%Y%m%d')\n",
    "\n",
    "        # Check if the date falls within the range\n",
    "        if start_date <= img_date <= end_date:\n",
    "            filtered_imgs.append(img)\n",
    "\n",
    "    return filtered_imgs\n",
    "\n",
    "for tile in tiles:\n",
    "    \n",
    "    if select_sat == 'landsat':\n",
    "\n",
    "        # Match Sentinel tiles to Landsat tiles\n",
    "        sent_tile = sentinel_tile_mapping[sentinel_tile_mapping['sentinel_tile'] == tile]\n",
    "        landsat_tiles = ast.literal_eval(sent_tile[\"landsat_tiles\"].values[0])\n",
    "        path_rows = [f\"{int(lt.split('_')[0]):03d}_{int(lt.split('_')[1]):03d}\" for lt in landsat_tiles]\n",
    "\n",
    "        # Collect image paths for Landsat tiles\n",
    "        all_imgs_aux = []\n",
    "        for path_row in path_rows:\n",
    "            src_dir = os.path.join(main_folder, path_row, \"L89\")\n",
    "            if not os.path.exists(src_dir):\n",
    "                print(f\"No images found for tile {path_row}. Skipping...\")\n",
    "                continue\n",
    "\n",
    "            all_imgs_aux.extend([os.path.join(src_dir, img) for img in os.listdir(src_dir)])\n",
    "    else:\n",
    "\n",
    "        # Collect image paths for Sentinel tiles\n",
    "        src_dir = os.path.join(main_folder, tile)\n",
    "        all_imgs_aux = [\n",
    "            os.path.join(src_dir, sub_dir, os.listdir(os.path.join(src_dir, sub_dir))[0])\n",
    "            for sub_dir in os.listdir(src_dir)\n",
    "        ]\n",
    "\n",
    "    # Filter images by date range\n",
    "    all_imgs = check_date_range(all_imgs_aux,period, select_sat)\n",
    "        \n",
    "    # Prepare output paths\n",
    "    output_paths = [\n",
    "        os.path.join(output_dir, \"atmcor\", select_sat, tile, os.path.splitext(os.path.basename(img))[0])\n",
    "        for img in all_imgs\n",
    "    ]\n",
    "    \n",
    "    # Append rows to paths_table\n",
    "    for i in range(len(all_imgs)):\n",
    "        paths_table = paths_table.append({'tile': tile, 'path': all_imgs[i], 'output_path': output_paths[i]}, ignore_index=True)\n",
    "    \n",
    "    print(f\"Found {len(all_imgs)} images for tile {tile}\")\n",
    "    \n",
    "paths_table.to_csv(r'Z:\\guser\\tml\\mypapers\\HLS_package_paper\\sentinel_toa\\paths_table.txt', index=False)"
   ]
  },
  {
   "cell_type": "code",
   "execution_count": 29,
   "outputs": [
    {
     "data": {
      "text/plain": "      tile                                               path  \\\n0    15RYN  Z:\\guser\\tml\\mypapers\\HLS_package_paper\\sentin...   \n1    15RYN  Z:\\guser\\tml\\mypapers\\HLS_package_paper\\sentin...   \n2    15RYN  Z:\\guser\\tml\\mypapers\\HLS_package_paper\\sentin...   \n3    15RYN  Z:\\guser\\tml\\mypapers\\HLS_package_paper\\sentin...   \n4    15RYN  Z:\\guser\\tml\\mypapers\\HLS_package_paper\\sentin...   \n..     ...                                                ...   \n259  51XSB  Z:\\guser\\tml\\mypapers\\HLS_package_paper\\sentin...   \n260  51XSB  Z:\\guser\\tml\\mypapers\\HLS_package_paper\\sentin...   \n261  51XSB  Z:\\guser\\tml\\mypapers\\HLS_package_paper\\sentin...   \n262  51XSB  Z:\\guser\\tml\\mypapers\\HLS_package_paper\\sentin...   \n263  51XSB  Z:\\guser\\tml\\mypapers\\HLS_package_paper\\sentin...   \n\n                                           output_path  \n0    Z:\\guser\\tml\\mypapers\\HLS_package_paper\\sentin...  \n1    Z:\\guser\\tml\\mypapers\\HLS_package_paper\\sentin...  \n2    Z:\\guser\\tml\\mypapers\\HLS_package_paper\\sentin...  \n3    Z:\\guser\\tml\\mypapers\\HLS_package_paper\\sentin...  \n4    Z:\\guser\\tml\\mypapers\\HLS_package_paper\\sentin...  \n..                                                 ...  \n259  Z:\\guser\\tml\\mypapers\\HLS_package_paper\\sentin...  \n260  Z:\\guser\\tml\\mypapers\\HLS_package_paper\\sentin...  \n261  Z:\\guser\\tml\\mypapers\\HLS_package_paper\\sentin...  \n262  Z:\\guser\\tml\\mypapers\\HLS_package_paper\\sentin...  \n263  Z:\\guser\\tml\\mypapers\\HLS_package_paper\\sentin...  \n\n[264 rows x 3 columns]",
      "text/html": "<div>\n<style scoped>\n    .dataframe tbody tr th:only-of-type {\n        vertical-align: middle;\n    }\n\n    .dataframe tbody tr th {\n        vertical-align: top;\n    }\n\n    .dataframe thead th {\n        text-align: right;\n    }\n</style>\n<table border=\"1\" class=\"dataframe\">\n  <thead>\n    <tr style=\"text-align: right;\">\n      <th></th>\n      <th>tile</th>\n      <th>path</th>\n      <th>output_path</th>\n    </tr>\n  </thead>\n  <tbody>\n    <tr>\n      <th>0</th>\n      <td>15RYN</td>\n      <td>Z:\\guser\\tml\\mypapers\\HLS_package_paper\\sentin...</td>\n      <td>Z:\\guser\\tml\\mypapers\\HLS_package_paper\\sentin...</td>\n    </tr>\n    <tr>\n      <th>1</th>\n      <td>15RYN</td>\n      <td>Z:\\guser\\tml\\mypapers\\HLS_package_paper\\sentin...</td>\n      <td>Z:\\guser\\tml\\mypapers\\HLS_package_paper\\sentin...</td>\n    </tr>\n    <tr>\n      <th>2</th>\n      <td>15RYN</td>\n      <td>Z:\\guser\\tml\\mypapers\\HLS_package_paper\\sentin...</td>\n      <td>Z:\\guser\\tml\\mypapers\\HLS_package_paper\\sentin...</td>\n    </tr>\n    <tr>\n      <th>3</th>\n      <td>15RYN</td>\n      <td>Z:\\guser\\tml\\mypapers\\HLS_package_paper\\sentin...</td>\n      <td>Z:\\guser\\tml\\mypapers\\HLS_package_paper\\sentin...</td>\n    </tr>\n    <tr>\n      <th>4</th>\n      <td>15RYN</td>\n      <td>Z:\\guser\\tml\\mypapers\\HLS_package_paper\\sentin...</td>\n      <td>Z:\\guser\\tml\\mypapers\\HLS_package_paper\\sentin...</td>\n    </tr>\n    <tr>\n      <th>...</th>\n      <td>...</td>\n      <td>...</td>\n      <td>...</td>\n    </tr>\n    <tr>\n      <th>259</th>\n      <td>51XSB</td>\n      <td>Z:\\guser\\tml\\mypapers\\HLS_package_paper\\sentin...</td>\n      <td>Z:\\guser\\tml\\mypapers\\HLS_package_paper\\sentin...</td>\n    </tr>\n    <tr>\n      <th>260</th>\n      <td>51XSB</td>\n      <td>Z:\\guser\\tml\\mypapers\\HLS_package_paper\\sentin...</td>\n      <td>Z:\\guser\\tml\\mypapers\\HLS_package_paper\\sentin...</td>\n    </tr>\n    <tr>\n      <th>261</th>\n      <td>51XSB</td>\n      <td>Z:\\guser\\tml\\mypapers\\HLS_package_paper\\sentin...</td>\n      <td>Z:\\guser\\tml\\mypapers\\HLS_package_paper\\sentin...</td>\n    </tr>\n    <tr>\n      <th>262</th>\n      <td>51XSB</td>\n      <td>Z:\\guser\\tml\\mypapers\\HLS_package_paper\\sentin...</td>\n      <td>Z:\\guser\\tml\\mypapers\\HLS_package_paper\\sentin...</td>\n    </tr>\n    <tr>\n      <th>263</th>\n      <td>51XSB</td>\n      <td>Z:\\guser\\tml\\mypapers\\HLS_package_paper\\sentin...</td>\n      <td>Z:\\guser\\tml\\mypapers\\HLS_package_paper\\sentin...</td>\n    </tr>\n  </tbody>\n</table>\n<p>264 rows × 3 columns</p>\n</div>"
     },
     "execution_count": 29,
     "metadata": {},
     "output_type": "execute_result"
    }
   ],
   "source": [
    "# save my table as a txt file\n",
    "import pandas as pd\n",
    "data = pd.read_csv(r'Z:\\guser\\tml\\mypapers\\HLS_package_paper\\sentinel_toa\\paths_table.txt')\n",
    "data"
   ],
   "metadata": {
    "collapsed": false,
    "ExecuteTime": {
     "end_time": "2024-12-23T15:12:59.603278100Z",
     "start_time": "2024-12-23T15:12:59.585278700Z"
    }
   },
   "id": "e5530ba820aa076"
  },
  {
   "cell_type": "code",
   "execution_count": 30,
   "outputs": [
    {
     "data": {
      "text/plain": "'Z:\\\\guser\\\\tml\\\\mypapers\\\\HLS_package_paper\\\\sentinel_toa\\\\atmcor\\\\sentinel\\\\15RYN\\\\S2B_MSIL1C_20230105T164659_N0509_R126_T15RYN_20230105T183840'"
     },
     "execution_count": 30,
     "metadata": {},
     "output_type": "execute_result"
    }
   ],
   "source": [
    "data['output_path'][0]"
   ],
   "metadata": {
    "collapsed": false,
    "ExecuteTime": {
     "end_time": "2024-12-23T15:14:14.762974300Z",
     "start_time": "2024-12-23T15:14:14.749975200Z"
    }
   },
   "id": "c84ab85e6668f3c6"
  },
  {
   "cell_type": "code",
   "execution_count": null,
   "outputs": [],
   "source": [],
   "metadata": {
    "collapsed": false
   },
   "id": "567e788beb772ed1"
  }
 ],
 "metadata": {
  "kernelspec": {
   "display_name": "Python 3",
   "language": "python",
   "name": "python3"
  },
  "language_info": {
   "codemirror_mode": {
    "name": "ipython",
    "version": 2
   },
   "file_extension": ".py",
   "mimetype": "text/x-python",
   "name": "python",
   "nbconvert_exporter": "python",
   "pygments_lexer": "ipython2",
   "version": "2.7.6"
  }
 },
 "nbformat": 4,
 "nbformat_minor": 5
}
