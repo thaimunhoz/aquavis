{
 "cells": [
  {
   "cell_type": "code",
   "execution_count": 1,
   "id": "initial_id",
   "metadata": {
    "collapsed": true,
    "ExecuteTime": {
     "end_time": "2025-01-05T21:21:05.643705300Z",
     "start_time": "2025-01-05T18:08:06.175938100Z"
    }
   },
   "outputs": [
    {
     "name": "stderr",
     "output_type": "stream",
     "text": [
      "2025-01-05 12:08:08,368 - INFO - Output directory already exists: Z:\\guser\\tml\\mypapers\\HLS_package_paper\\HLS_DATASET\\sentinel\\35TPK\n",
      "2025-01-05 14:42:23,633 - ERROR - An error occurred while processing tile 35TPK: list indices must be integers or slices, not str\n",
      "2025-01-05 14:42:23,686 - INFO - Atmospheric correction completed successfully.\n"
     ]
    },
    {
     "name": "stdout",
     "output_type": "stream",
     "text": [
      "Processing results for tile 35TPK: [None, None, None, None, None, None, None, None, None, None, None, None, None, None, None, None, None, None, None, None, None, None, None, None, None, None, None, None, None, None, None, None, None, None, None, None, None, None, None, None, None, None, None, None, None, None, None, None, None, None, None, None, None, None, None, None, None, None, None, None, None, None, None, None, None, None, None, None, None, None, None, None, None, None, None, None, None]\n"
     ]
    },
    {
     "name": "stderr",
     "output_type": "stream",
     "text": [
      "2025-01-05 15:13:39,426 - INFO - Resampling completed successfully.\n",
      "2025-01-05 15:19:20,014 - INFO - HLS water image generation completed successfully.\n"
     ]
    },
    {
     "name": "stdout",
     "output_type": "stream",
     "text": [
      "[None, None, None, None, None, None, None, None, None, None, None, None, None, None, None, None, None, None, None, None, None, None, None, None, None, None, None, None, None, None, None, None, None, None, None, None, None, None, None, None, None, None, None, None, None, None, None, None, None, None, None, None, None, None, None, None, None, None, None, None, None, None, None, None, None, None, None, None, None, None, None, None, None, None, None, None]\n",
      "[None, None, None, None, None, None, None, None, None, None, None, None, None, None, None, None, None, None, None, None, None, None, None, None, None, None, None, None, None, None, None, None, None, None, None, None, None, None, None, None, None, None, None, None, None, None, None, None, None, None, None, None, None, None, None, None, None, None, None, None, None, None, None, None, None, None, None, None, None, None, None, None, None, None, None, None]\n"
     ]
    },
    {
     "name": "stderr",
     "output_type": "stream",
     "text": [
      "2025-01-05 15:21:05,608 - INFO - Visualization and true color composition completed successfully.\n",
      "2025-01-05 15:21:05,609 - INFO - Process finished successfully.\n"
     ]
    }
   ],
   "source": [
    "import os\n",
    "from src.run_satwater import run_satwater\n",
    "\n",
    "tiles = ['35TPK']\n",
    "select_sat = 'sentinel'\n",
    "period_ini = '20150101'\n",
    "period_end = '20221231'\n",
    "\n",
    "for tile in tiles:\n",
    "    output_dir = rf'Z:\\guser\\tml\\mypapers\\HLS_package_paper\\HLS_DATASET\\sentinel\\{tile}'\n",
    "    if not os.path.exists(output_dir): os.makedirs\n",
    "    run_satwater(select_sat, tile, period_ini, period_end, output_dir)"
   ]
  },
  {
   "cell_type": "code",
   "execution_count": null,
   "outputs": [],
   "source": [
    "import os\n",
    "from src.run_satwater import run_satwater\n",
    "\n",
    "tiles = ['33JVN', '33VXD', '40RDQ', '50KLB', '51RTL'] # Start on atmopheric correction done for 33JVN\n",
    "select_sat = 'landsat'\n",
    "period_ini = '20230101'\n",
    "period_end = '20231231'\n",
    "\n",
    "for tile in tiles:\n",
    "    output_dir = rf'Z:\\guser\\tml\\mypapers\\HLS_package_paper\\HLS_DATASET\\landsat\\{tile}'\n",
    "    if not os.path.exists(output_dir): os.makedirs\n",
    "    run_satwater(select_sat, tile, period_ini, period_end, output_dir)"
   ],
   "metadata": {
    "collapsed": false
   },
   "id": "646607545a55bae0"
  }
 ],
 "metadata": {
  "kernelspec": {
   "display_name": "Python 3",
   "language": "python",
   "name": "python3"
  },
  "language_info": {
   "codemirror_mode": {
    "name": "ipython",
    "version": 2
   },
   "file_extension": ".py",
   "mimetype": "text/x-python",
   "name": "python",
   "nbconvert_exporter": "python",
   "pygments_lexer": "ipython2",
   "version": "2.7.6"
  }
 },
 "nbformat": 4,
 "nbformat_minor": 5
}
