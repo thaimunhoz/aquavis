{
 "cells": [
  {
   "cell_type": "code",
   "execution_count": 1,
   "id": "initial_id",
   "metadata": {
    "collapsed": true,
    "ExecuteTime": {
     "end_time": "2024-12-16T18:44:09.504753500Z",
     "start_time": "2024-12-16T18:43:45.533294100Z"
    }
   },
   "outputs": [
    {
     "name": "stderr",
     "output_type": "stream",
     "text": [
      "2024-12-16 12:44:09,498 - INFO - Visualization and true color composition completed successfully.\n",
      "2024-12-16 12:44:09,499 - INFO - Process finished successfully.\n"
     ]
    }
   ],
   "source": [
    "from src.run_satwater import run_satwater\n",
    "\n",
    "select_sat = 'landsat'\n",
    "tile = '13QGC'\n",
    "period_ini = '20230204'\n",
    "period_end = '20230208'\n",
    "output_dir = r'Z:\\guser\\tml\\mypapers\\HLS_package_paper\\glint_correction\\hls_output\\landsat_val'\n",
    "\n",
    "run_satwater(select_sat, tile, period_ini, period_end, output_dir)"
   ]
  },
  {
   "cell_type": "code",
   "execution_count": null,
   "outputs": [],
   "source": [],
   "metadata": {
    "collapsed": false
   },
   "id": "10c8a09d82de8356"
  }
 ],
 "metadata": {
  "kernelspec": {
   "display_name": "Python 3",
   "language": "python",
   "name": "python3"
  },
  "language_info": {
   "codemirror_mode": {
    "name": "ipython",
    "version": 2
   },
   "file_extension": ".py",
   "mimetype": "text/x-python",
   "name": "python",
   "nbconvert_exporter": "python",
   "pygments_lexer": "ipython2",
   "version": "2.7.6"
  }
 },
 "nbformat": 4,
 "nbformat_minor": 5
}
