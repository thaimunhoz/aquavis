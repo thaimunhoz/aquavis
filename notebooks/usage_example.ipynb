{
 "cells": [
  {
   "cell_type": "code",
   "execution_count": 1,
   "outputs": [
    {
     "name": "stdout",
     "output_type": "stream",
     "text": [
      "Skipping Z:\\guser\\tml\\mypapers\\HLS_package_paper\\package_validation\\sentinel\\21HVB\\adjcorr\\S2A_MSIL1C_20230123T134701_N0509_R024_T21HVB_20230123T170826.SAFE, already exists.\n",
      "Skipping Z:\\guser\\tml\\mypapers\\HLS_package_paper\\package_validation\\sentinel\\21HVB\\adjcorr\\S2B_MSIL1C_20230813T133839_N0509_R124_T21HVB_20230813T181642.SAFE, already exists.\n",
      "Skipping Z:\\guser\\tml\\mypapers\\HLS_package_paper\\package_validation\\sentinel\\21HVB\\adjcorr\\S2A_MSIL1C_20230103T134701_N0509_R024_T21HVB_20230103T170831.SAFE, already exists.\n",
      "Skipping Z:\\guser\\tml\\mypapers\\HLS_package_paper\\package_validation\\sentinel\\21HVB\\adjcorr\\S2B_MSIL1C_20230105T133829_N0509_R124_T21HVB_20230105T165959.SAFE, already exists.\n",
      "Skipping Z:\\guser\\tml\\mypapers\\HLS_package_paper\\package_validation\\sentinel\\21HVB\\adjcorr\\S2B_MSIL1C_20231015T134709_N0509_R024_T21HVB_20231015T170310.SAFE, already exists.\n",
      "Skipping Z:\\guser\\tml\\mypapers\\HLS_package_paper\\package_validation\\sentinel\\21HVB\\adjcorr\\S2B_MSIL1C_20230515T133839_N0509_R124_T21HVB_20230515T170120.SAFE, already exists.\n",
      "Skipping Z:\\guser\\tml\\mypapers\\HLS_package_paper\\package_validation\\sentinel\\21HVB\\adjcorr\\S2B_MSIL1C_20230326T133839_N0509_R124_T21HVB_20230326T165100.SAFE, already exists.\n",
      "Skipping Z:\\guser\\tml\\mypapers\\HLS_package_paper\\package_validation\\sentinel\\21HVB\\adjcorr\\S2A_MSIL1C_20230209T133831_N0509_R124_T21HVB_20230209T165829.SAFE, already exists.\n",
      "Skipping Z:\\guser\\tml\\mypapers\\HLS_package_paper\\package_validation\\sentinel\\21HVB\\adjcorr\\S2B_MSIL1C_20230108T134659_N0509_R024_T21HVB_20230108T170902.SAFE, already exists.\n",
      "Skipping Z:\\guser\\tml\\mypapers\\HLS_package_paper\\package_validation\\sentinel\\21HVB\\adjcorr\\S2A_MSIL1C_20230219T133831_N0509_R124_T21HVB_20230219T165816.SAFE, already exists.\n",
      "Skipping Z:\\guser\\tml\\mypapers\\HLS_package_paper\\package_validation\\sentinel\\21HVB\\adjcorr\\S2B_MSIL1C_20230408T134709_N0509_R024_T21HVB_20230408T170827.SAFE, already exists.\n",
      "Skipping Z:\\guser\\tml\\mypapers\\HLS_package_paper\\package_validation\\sentinel\\21HVB\\adjcorr\\S2B_MSIL1C_20231114T134709_N0509_R024_T21HVB_20231114T170917.SAFE, already exists.\n",
      "Skipping Z:\\guser\\tml\\mypapers\\HLS_package_paper\\package_validation\\sentinel\\21HVB\\adjcorr\\S2A_MSIL1C_20231109T134701_N0509_R024_T21HVB_20231109T170817.SAFE, already exists.\n",
      "Skipping Z:\\guser\\tml\\mypapers\\HLS_package_paper\\package_validation\\sentinel\\21HVB\\adjcorr\\S2A_MSIL1C_20230321T133831_N0509_R124_T21HVB_20230321T184225.SAFE, already exists.\n",
      "Skipping Z:\\guser\\tml\\mypapers\\HLS_package_paper\\package_validation\\sentinel\\21HVB\\adjcorr\\S2A_MSIL1C_20231017T133831_N0509_R124_T21HVB_20231017T165815.SAFE, already exists.\n",
      "Skipping Z:\\guser\\tml\\mypapers\\HLS_package_paper\\package_validation\\sentinel\\21HVB\\adjcorr\\S2B_MSIL1C_20231124T134659_N0509_R024_T21HVB_20231124T171034.SAFE, already exists.\n",
      "Skipping Z:\\guser\\tml\\mypapers\\HLS_package_paper\\package_validation\\sentinel\\21HVB\\adjcorr\\S2A_MSIL1C_20230801T134711_N0509_R024_T21HVB_20230801T185340.SAFE, already exists.\n",
      "Skipping Z:\\guser\\tml\\mypapers\\HLS_package_paper\\package_validation\\sentinel\\21HVB\\adjcorr\\S2B_MSIL1C_20230204T133829_N0509_R124_T21HVB_20230204T165921.SAFE, already exists.\n",
      "Skipping Z:\\guser\\tml\\mypapers\\HLS_package_paper\\package_validation\\sentinel\\21HVB\\adjcorr\\S2B_MSIL1C_20231211T133829_N0509_R124_T21HVB_20231211T170054.SAFE, already exists.\n",
      "Skipping Z:\\guser\\tml\\mypapers\\HLS_package_paper\\package_validation\\sentinel\\21HVB\\adjcorr\\S2B_MSIL1C_20230306T133839_N0509_R124_T21HVB_20230306T182003.SAFE, already exists.\n",
      "Skipping Z:\\guser\\tml\\mypapers\\HLS_package_paper\\package_validation\\sentinel\\21HVB\\adjcorr\\S2A_MSIL1C_20230420T133831_N0509_R124_T21HVB_20230420T183813.SAFE, already exists.\n",
      "Skipping Z:\\guser\\tml\\mypapers\\HLS_package_paper\\package_validation\\sentinel\\21HVB\\adjcorr\\S2A_MSIL1C_20231116T133831_N0509_R124_T21HVB_20231116T170008.SAFE, already exists.\n",
      "Skipping Z:\\guser\\tml\\mypapers\\HLS_package_paper\\package_validation\\sentinel\\21HVB\\adjcorr\\S2B_MSIL1C_20231025T134709_N0509_R024_T21HVB_20231025T170925.SAFE, already exists.\n",
      "Skipping Z:\\guser\\tml\\mypapers\\HLS_package_paper\\package_validation\\sentinel\\21HVB\\adjcorr\\S2B_MSIL1C_20230614T133839_N0509_R124_T21HVB_20230614T165948.SAFE, already exists.\n",
      "Skipping Z:\\guser\\tml\\mypapers\\HLS_package_paper\\package_validation\\sentinel\\21HVB\\adjcorr\\S2A_MSIL1C_20231119T134701_N0509_R024_T21HVB_20231119T171128.SAFE, already exists.\n",
      "Skipping Z:\\guser\\tml\\mypapers\\HLS_package_paper\\package_validation\\sentinel\\21HVB\\adjcorr\\S2A_MSIL1C_20230927T133841_N0509_R124_T21HVB_20230927T183819.SAFE, already exists.\n",
      "Skipping Z:\\guser\\tml\\mypapers\\HLS_package_paper\\package_validation\\sentinel\\21HVB\\adjcorr\\S2A_MSIL1C_20230110T133831_N0509_R124_T21HVB_20230110T165115.SAFE, already exists.\n",
      "Skipping Z:\\guser\\tml\\mypapers\\HLS_package_paper\\package_validation\\sentinel\\21HVB\\adjcorr\\S2A_MSIL1C_20230314T134701_N0509_R024_T21HVB_20230314T184824.SAFE, already exists.\n",
      "Skipping Z:\\guser\\tml\\mypapers\\HLS_package_paper\\package_validation\\sentinel\\21HVB\\adjcorr\\S2A_MSIL1C_20230130T133831_N0509_R124_T21HVB_20230130T165828.SAFE, already exists.\n",
      "Skipping Z:\\guser\\tml\\mypapers\\HLS_package_paper\\package_validation\\sentinel\\21HVB\\adjcorr\\S2A_MSIL1C_20230331T133831_N0509_R124_T21HVB_20230331T183710.SAFE, already exists.\n",
      "Skipping Z:\\guser\\tml\\mypapers\\HLS_package_paper\\package_validation\\sentinel\\21HVB\\adjcorr\\S2A_MSIL1C_20230113T134701_N0509_R024_T21HVB_20230113T170820.SAFE, already exists.\n",
      "Adjacent correction completed successfully.\n"
     ]
    },
    {
     "ename": "AttributeError",
     "evalue": "'numpy.ndarray' object has no attribute 'values'",
     "output_type": "error",
     "traceback": [
      "\u001B[1;31m---------------------------------------------------------------------------\u001B[0m",
      "\u001B[1;31mAttributeError\u001B[0m                            Traceback (most recent call last)",
      "Cell \u001B[1;32mIn[1], line 14\u001B[0m\n\u001B[0;32m     11\u001B[0m output_dir \u001B[38;5;241m=\u001B[39m \u001B[38;5;124mrf\u001B[39m\u001B[38;5;124m'\u001B[39m\u001B[38;5;124mZ:\u001B[39m\u001B[38;5;124m\\\u001B[39m\u001B[38;5;124mguser\u001B[39m\u001B[38;5;124m\\\u001B[39m\u001B[38;5;124mtml\u001B[39m\u001B[38;5;124m\\\u001B[39m\u001B[38;5;124mmypapers\u001B[39m\u001B[38;5;124m\\\u001B[39m\u001B[38;5;124mHLS_package_paper\u001B[39m\u001B[38;5;124m\\\u001B[39m\u001B[38;5;124mpackage_validation\u001B[39m\u001B[38;5;124m\\\u001B[39m\u001B[38;5;124msentinel\u001B[39m\u001B[38;5;124m\\\u001B[39m\u001B[38;5;132;01m{\u001B[39;00mtile\u001B[38;5;132;01m}\u001B[39;00m\u001B[38;5;124m'\u001B[39m\n\u001B[0;32m     13\u001B[0m \u001B[38;5;28;01mif\u001B[39;00m \u001B[38;5;129;01mnot\u001B[39;00m os\u001B[38;5;241m.\u001B[39mpath\u001B[38;5;241m.\u001B[39mexists(output_dir): os\u001B[38;5;241m.\u001B[39mmakedirs\n\u001B[1;32m---> 14\u001B[0m \u001B[43mrun_satwater\u001B[49m\u001B[43m(\u001B[49m\u001B[43mselect_sat\u001B[49m\u001B[43m,\u001B[49m\u001B[43m \u001B[49m\u001B[43mtile\u001B[49m\u001B[43m,\u001B[49m\u001B[43m \u001B[49m\u001B[43mperiod_ini\u001B[49m\u001B[43m,\u001B[49m\u001B[43m \u001B[49m\u001B[43mperiod_end\u001B[49m\u001B[43m,\u001B[49m\u001B[43m \u001B[49m\u001B[43moutput_dir\u001B[49m\u001B[43m,\u001B[49m\u001B[43m \u001B[49m\u001B[38;5;28;43;01mTrue\u001B[39;49;00m\u001B[43m,\u001B[49m\u001B[43m \u001B[49m\u001B[38;5;124;43m\"\u001B[39;49m\u001B[38;5;124;43mGCER\u001B[39;49m\u001B[38;5;124;43m\"\u001B[39;49m\u001B[43m,\u001B[49m\u001B[43m \u001B[49m\u001B[38;5;28;43;01mFalse\u001B[39;49;00m\u001B[43m,\u001B[49m\u001B[43m \u001B[49m\u001B[38;5;124;43m\"\u001B[39;49m\u001B[38;5;124;43mrho\u001B[39;49m\u001B[38;5;124;43m\"\u001B[39;49m\u001B[43m)\u001B[49m\n",
      "File \u001B[1;32m~\\Documents\\Python Scripts\\hls_water\\src\\run_aquavis.py:76\u001B[0m, in \u001B[0;36mrun_satwater\u001B[1;34m(select_sat, tile, period_ini, period_end, output_dir, keep_atmcor, input_toa, brdf_corr, output_type)\u001B[0m\n\u001B[0;32m     67\u001B[0m \u001B[38;5;66;03m# Run processing steps\u001B[39;00m\n\u001B[0;32m     68\u001B[0m \u001B[38;5;66;03m# if input_toa == \"GEE\":\u001B[39;00m\n\u001B[0;32m     69\u001B[0m \u001B[38;5;66;03m#     SatWater_i.run_atmcor_gee()  # 1. Atmospheric correction using GEE as input TOA source\u001B[39;00m\n\u001B[0;32m     70\u001B[0m \u001B[38;5;66;03m#\u001B[39;00m\n\u001B[0;32m     71\u001B[0m \u001B[38;5;66;03m# else:\u001B[39;00m\n\u001B[0;32m     72\u001B[0m \u001B[38;5;66;03m#     SatWater_i.run_atmcor() # 1. Atmospheric correction using local TOA source\u001B[39;00m\n\u001B[0;32m     74\u001B[0m SatWater_i\u001B[38;5;241m.\u001B[39mrun_adjcorr() \u001B[38;5;66;03m# 2. Adjacent correction\u001B[39;00m\n\u001B[1;32m---> 76\u001B[0m \u001B[43mSatWater_i\u001B[49m\u001B[38;5;241;43m.\u001B[39;49m\u001B[43mrun_glint_corr\u001B[49m\u001B[43m(\u001B[49m\u001B[43m)\u001B[49m \u001B[38;5;66;03m# 3. Glint correction\u001B[39;00m\n\u001B[0;32m     78\u001B[0m \u001B[38;5;28;01mif\u001B[39;00m select_sat \u001B[38;5;241m==\u001B[39m \u001B[38;5;124m\"\u001B[39m\u001B[38;5;124mlandsat\u001B[39m\u001B[38;5;124m\"\u001B[39m:\n\u001B[0;32m     79\u001B[0m     SatWater_i\u001B[38;5;241m.\u001B[39mrun_tiling() \u001B[38;5;66;03m# 4. Tiling for Landsat\u001B[39;00m\n",
      "File \u001B[1;32m~\\Documents\\Python Scripts\\hls_water\\src\\satwater\\build_aquavis.py:95\u001B[0m, in \u001B[0;36mSatWater.run_glint_corr\u001B[1;34m(self)\u001B[0m\n\u001B[0;32m     90\u001B[0m \u001B[38;5;250m\u001B[39m\u001B[38;5;124;03m\"\"\"\u001B[39;00m\n\u001B[0;32m     91\u001B[0m \u001B[38;5;124;03mPerform glint correction using the 6S model.\u001B[39;00m\n\u001B[0;32m     92\u001B[0m \u001B[38;5;124;03m\"\"\"\u001B[39;00m\n\u001B[0;32m     94\u001B[0m glintcorr \u001B[38;5;241m=\u001B[39m FresGLINT()\n\u001B[1;32m---> 95\u001B[0m \u001B[43mglintcorr\u001B[49m\u001B[38;5;241;43m.\u001B[39;49m\u001B[43mrun\u001B[49m\u001B[43m(\u001B[49m\u001B[38;5;28;43mself\u001B[39;49m\u001B[38;5;241;43m.\u001B[39;49m\u001B[43mparams\u001B[49m\u001B[43m)\u001B[49m\n\u001B[0;32m     96\u001B[0m \u001B[38;5;28mprint\u001B[39m(\u001B[38;5;124m\"\u001B[39m\u001B[38;5;124mGlint correction completed successfully.\u001B[39m\u001B[38;5;124m\"\u001B[39m)\n",
      "File \u001B[1;32m~\\Documents\\Python Scripts\\hls_water\\src\\satwater\\glint_correction\\fresglint.py:253\u001B[0m, in \u001B[0;36mFresGLINT.run\u001B[1;34m(self, params)\u001B[0m\n\u001B[0;32m    250\u001B[0m output_path \u001B[38;5;241m=\u001B[39m os\u001B[38;5;241m.\u001B[39mpath\u001B[38;5;241m.\u001B[39mjoin(params[\u001B[38;5;124m'\u001B[39m\u001B[38;5;124moutput_dir_glintcorr\u001B[39m\u001B[38;5;124m'\u001B[39m], os\u001B[38;5;241m.\u001B[39mpath\u001B[38;5;241m.\u001B[39mbasename(scene))\n\u001B[0;32m    251\u001B[0m satwutils\u001B[38;5;241m.\u001B[39mcreate_dir(output_path)\n\u001B[1;32m--> 253\u001B[0m \u001B[38;5;28;43mself\u001B[39;49m\u001B[38;5;241;43m.\u001B[39;49m\u001B[43mapply_glintcorr\u001B[49m\u001B[43m(\u001B[49m\u001B[43mscene\u001B[49m\u001B[43m,\u001B[49m\u001B[43m \u001B[49m\u001B[43moutput_path\u001B[49m\u001B[43m)\u001B[49m\n",
      "File \u001B[1;32m~\\Documents\\Python Scripts\\hls_water\\src\\satwater\\glint_correction\\fresglint.py:231\u001B[0m, in \u001B[0;36mFresGLINT.apply_glintcorr\u001B[1;34m(self, input_path, output_path)\u001B[0m\n\u001B[0;32m    228\u001B[0m band_key \u001B[38;5;241m=\u001B[39m band_index[i]\n\u001B[0;32m    229\u001B[0m band_name \u001B[38;5;241m=\u001B[39m band_names[i]\n\u001B[1;32m--> 231\u001B[0m \u001B[38;5;28;43mself\u001B[39;49m\u001B[38;5;241;43m.\u001B[39;49m\u001B[43mprocess_band\u001B[49m\u001B[43m(\u001B[49m\u001B[43mband_key\u001B[49m\u001B[43m,\u001B[49m\u001B[43m \u001B[49m\u001B[43mi\u001B[49m\u001B[43m,\u001B[49m\u001B[43m \u001B[49m\u001B[43mband_name\u001B[49m\u001B[43m,\u001B[49m\u001B[43m \u001B[49m\u001B[43mfiltered_dict\u001B[49m\u001B[43m,\u001B[49m\u001B[43m \u001B[49m\u001B[43mmetadata\u001B[49m\u001B[43m,\u001B[49m\u001B[43m \u001B[49m\u001B[43mswir_band\u001B[49m\u001B[43m,\u001B[49m\u001B[43m \u001B[49m\u001B[38;5;28;43mself\u001B[39;49m\u001B[38;5;241;43m.\u001B[39;49m\u001B[43mang\u001B[49m\u001B[43m,\u001B[49m\u001B[43m \u001B[49m\u001B[38;5;28;43mself\u001B[39;49m\u001B[38;5;241;43m.\u001B[39;49m\u001B[43mw_refIndex\u001B[49m\u001B[43m)\u001B[49m\n",
      "File \u001B[1;32m~\\Documents\\Python Scripts\\hls_water\\src\\satwater\\glint_correction\\fresglint.py:116\u001B[0m, in \u001B[0;36mFresGLINT.process_band\u001B[1;34m(self, band_key, index, band_name, filtered_dict, metadata, swir_band, ang, w_refIndex)\u001B[0m\n\u001B[0;32m    114\u001B[0m     r_glint \u001B[38;5;241m=\u001B[39m arr1020 \u001B[38;5;241m*\u001B[39m (target[\u001B[38;5;124m'\u001B[39m\u001B[38;5;124mTdir\u001B[39m\u001B[38;5;124m'\u001B[39m] \u001B[38;5;241m/\u001B[39m reference_20[\u001B[38;5;124m'\u001B[39m\u001B[38;5;124mTdir\u001B[39m\u001B[38;5;124m'\u001B[39m]) \u001B[38;5;241m*\u001B[39m (target[\u001B[38;5;124m'\u001B[39m\u001B[38;5;124mrFresnel\u001B[39m\u001B[38;5;124m'\u001B[39m] \u001B[38;5;241m/\u001B[39m reference_20[\u001B[38;5;124m'\u001B[39m\u001B[38;5;124mrFresnel\u001B[39m\u001B[38;5;124m'\u001B[39m])\n\u001B[0;32m    115\u001B[0m     \u001B[38;5;66;03m#m_glint = gmask20 == 1\u001B[39;00m\n\u001B[1;32m--> 116\u001B[0m     r_glint \u001B[38;5;241m=\u001B[39m \u001B[43mr_glint\u001B[49m\u001B[38;5;241;43m.\u001B[39;49m\u001B[43mvalues\u001B[49m[\u001B[38;5;241m0\u001B[39m, :, :]\n\u001B[0;32m    118\u001B[0m \u001B[38;5;28;01melif\u001B[39;00m (metadata[\u001B[38;5;124m\"\u001B[39m\u001B[38;5;124mGeneral_Info\u001B[39m\u001B[38;5;124m\"\u001B[39m][\u001B[38;5;124m\"\u001B[39m\u001B[38;5;124msatellite\u001B[39m\u001B[38;5;124m\"\u001B[39m] \u001B[38;5;241m==\u001B[39m \u001B[38;5;124m\"\u001B[39m\u001B[38;5;124mMSI_S2\u001B[39m\u001B[38;5;124m\"\u001B[39m) \u001B[38;5;129;01mand\u001B[39;00m (band_key \u001B[38;5;241m==\u001B[39m \u001B[38;5;124m\"\u001B[39m\u001B[38;5;124mB11\u001B[39m\u001B[38;5;124m\"\u001B[39m):\n\u001B[0;32m    120\u001B[0m     \u001B[38;5;28mself\u001B[39m\u001B[38;5;241m.\u001B[39mcorr_swir_glint(band_name, band_key, filtered_dict)\n",
      "\u001B[1;31mAttributeError\u001B[0m: 'numpy.ndarray' object has no attribute 'values'"
     ]
    }
   ],
   "source": [
    "import os\n",
    "from src.run_aquavis import run_satwater\n",
    "\n",
    "tiles = ['21HVB']\n",
    "\n",
    "select_sat = 'sentinel'\n",
    "period_ini = '20230101'\n",
    "period_end = '20231230'\n",
    "    \n",
    "for tile in tiles:\n",
    "    output_dir = rf'Z:\\guser\\tml\\mypapers\\HLS_package_paper\\package_validation\\sentinel\\{tile}'\n",
    "    \n",
    "    if not os.path.exists(output_dir): os.makedirs\n",
    "    run_satwater(select_sat, tile, period_ini, period_end, output_dir, True, \"GCER\", False, \"rho\")"
   ],
   "metadata": {
    "collapsed": false,
    "ExecuteTime": {
     "end_time": "2025-03-22T16:44:53.870538500Z",
     "start_time": "2025-03-22T15:44:34.557372300Z"
    }
   },
   "id": "646607545a55bae0"
  },
  {
   "cell_type": "code",
   "execution_count": null,
   "outputs": [],
   "source": [],
   "metadata": {
    "collapsed": false,
    "ExecuteTime": {
     "end_time": "2025-03-22T15:44:31.820189100Z",
     "start_time": "2025-03-22T15:44:31.818684800Z"
    }
   },
   "id": "eb1791bfe7fd10a4"
  },
  {
   "cell_type": "code",
   "execution_count": null,
   "outputs": [],
   "source": [],
   "metadata": {
    "collapsed": false
   },
   "id": "748af653c2d5378f"
  }
 ],
 "metadata": {
  "kernelspec": {
   "display_name": "Python 3",
   "language": "python",
   "name": "python3"
  },
  "language_info": {
   "codemirror_mode": {
    "name": "ipython",
    "version": 2
   },
   "file_extension": ".py",
   "mimetype": "text/x-python",
   "name": "python",
   "nbconvert_exporter": "python",
   "pygments_lexer": "ipython2",
   "version": "2.7.6"
  }
 },
 "nbformat": 4,
 "nbformat_minor": 5
}
