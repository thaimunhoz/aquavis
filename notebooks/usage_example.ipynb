{
 "cells": [
  {
   "cell_type": "code",
   "execution_count": null,
   "id": "initial_id",
   "metadata": {
    "collapsed": true
   },
   "outputs": [],
   "source": [
    "from src.run_satwater import run_satwater\n",
    "\n",
    "select_sat = 'landsat'\n",
    "tile = '022_039'\n",
    "period_ini = '20230301'\n",
    "period_end = '20230310'\n",
    "output_dir = r'Z:\\guser\\tml\\mypapers\\hls_synthetic\\HLS_package\\usage_example\\output_data'\n",
    "\n",
    "run_satwater(select_sat, tile, period_ini, period_end, output_dir)"
   ]
  }
 ],
 "metadata": {
  "kernelspec": {
   "display_name": "Python 3",
   "language": "python",
   "name": "python3"
  },
  "language_info": {
   "codemirror_mode": {
    "name": "ipython",
    "version": 2
   },
   "file_extension": ".py",
   "mimetype": "text/x-python",
   "name": "python",
   "nbconvert_exporter": "python",
   "pygments_lexer": "ipython2",
   "version": "2.7.6"
  }
 },
 "nbformat": 4,
 "nbformat_minor": 5
}
