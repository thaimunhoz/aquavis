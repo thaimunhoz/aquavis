{
 "cells": [
  {
   "cell_type": "code",
   "execution_count": 1,
   "outputs": [
    {
     "name": "stdout",
     "output_type": "stream",
     "text": [
      "Image Z:/dbcenter/images/landsat/scenes/level_toa\\223_085\\L89\\LC08_L1TP_223085_20230504_20230509_02_T1 found.\n",
      "LC08_L1TP_223085_20230504_20230509_02_T1\n"
     ]
    },
    {
     "name": "stderr",
     "output_type": "stream",
     "text": [
      "H:\\My Drive\\PhD\\aquavis_package - Copia\\src\\aquavis\\processors\\atmcor\\toolbox.py:199: UserWarning: Geometry is in a geographic CRS. Results from 'area' are likely incorrect. Use 'GeoSeries.to_crs()' to re-project geometries to a projected CRS before this operation.\n",
      "\n",
      "  gdf_tile['area'] = gdf_tile['geometry'].area\n",
      "2025-04-23 16:56:06,660 - INFO - Atmospheric correction completed successfully\n",
      "2025-04-23 16:56:06,660 - INFO - Starting cloud masking\n",
      "2025-04-23 16:59:00,316 - INFO - Cloud masking completed successfully\n"
     ]
    },
    {
     "name": "stdout",
     "output_type": "stream",
     "text": [
      "Image Z:/dbcenter/images/landsat/scenes/level_toa\\224_084\\L89\\LC09_L1TP_224084_20230503_20230503_02_T1 found.\n",
      "LC09_L1TP_224084_20230503_20230503_02_T1\n"
     ]
    },
    {
     "name": "stderr",
     "output_type": "stream",
     "text": [
      "H:\\My Drive\\PhD\\aquavis_package - Copia\\src\\aquavis\\processors\\atmcor\\toolbox.py:199: UserWarning: Geometry is in a geographic CRS. Results from 'area' are likely incorrect. Use 'GeoSeries.to_crs()' to re-project geometries to a projected CRS before this operation.\n",
      "\n",
      "  gdf_tile['area'] = gdf_tile['geometry'].area\n",
      "2025-04-23 17:01:14,143 - INFO - Atmospheric correction completed successfully\n",
      "2025-04-23 17:01:14,144 - INFO - Starting cloud masking\n",
      "2025-04-23 17:04:06,565 - INFO - Cloud masking completed successfully\n"
     ]
    },
    {
     "name": "stdout",
     "output_type": "stream",
     "text": [
      "Image Z:/dbcenter/images/landsat/scenes/level_toa\\223_084\\L89\\LC08_L1TP_223084_20230504_20230509_02_T1 found.\n",
      "LC08_L1TP_223084_20230504_20230509_02_T1\n"
     ]
    },
    {
     "name": "stderr",
     "output_type": "stream",
     "text": [
      "H:\\My Drive\\PhD\\aquavis_package - Copia\\src\\aquavis\\processors\\atmcor\\toolbox.py:199: UserWarning: Geometry is in a geographic CRS. Results from 'area' are likely incorrect. Use 'GeoSeries.to_crs()' to re-project geometries to a projected CRS before this operation.\n",
      "\n",
      "  gdf_tile['area'] = gdf_tile['geometry'].area\n",
      "2025-04-23 17:06:22,946 - INFO - Atmospheric correction completed successfully\n",
      "2025-04-23 17:06:22,946 - INFO - Starting cloud masking\n",
      "2025-04-23 17:09:27,556 - INFO - Cloud masking completed successfully\n"
     ]
    },
    {
     "name": "stdout",
     "output_type": "stream",
     "text": [
      "Image Z:\\guser\\tml\\mypapers\\HLS_package_paper\\package_validation\\landsat\\21HVB\\atmcor\\LC08_L1TP_223084_20230504_20230509_02_T1 found.\n",
      "Image Z:\\guser\\tml\\mypapers\\HLS_package_paper\\package_validation\\landsat\\21HVB\\atmcor\\LC08_L1TP_223085_20230504_20230509_02_T1 found.\n",
      "Image Z:\\guser\\tml\\mypapers\\HLS_package_paper\\package_validation\\landsat\\21HVB\\atmcor\\LC08_L1TP_224084_20230204_20230209_02_T1 found.\n",
      "Image Z:\\guser\\tml\\mypapers\\HLS_package_paper\\package_validation\\landsat\\21HVB\\atmcor\\LC09_L1TP_223084_20230205_20230311_02_T1 found.\n",
      "Image Z:\\guser\\tml\\mypapers\\HLS_package_paper\\package_validation\\landsat\\21HVB\\atmcor\\LC09_L1TP_223085_20230205_20230311_02_T1 found.\n",
      "Image Z:\\guser\\tml\\mypapers\\HLS_package_paper\\package_validation\\landsat\\21HVB\\atmcor\\LC09_L1TP_224084_20230503_20230503_02_T1 found.\n",
      "Image Z:\\guser\\tml\\mypapers\\HLS_package_paper\\package_validation\\landsat\\21HVB\\adjcorr\\LC08_L1TP_223084_20230504_20230509_02_T1 found.\n",
      "Image Z:\\guser\\tml\\mypapers\\HLS_package_paper\\package_validation\\landsat\\21HVB\\adjcorr\\LC08_L1TP_223085_20230504_20230509_02_T1 found.\n",
      "Image Z:\\guser\\tml\\mypapers\\HLS_package_paper\\package_validation\\landsat\\21HVB\\adjcorr\\LC08_L1TP_224084_20230204_20230209_02_T1 found.\n",
      "Image Z:\\guser\\tml\\mypapers\\HLS_package_paper\\package_validation\\landsat\\21HVB\\adjcorr\\LC09_L1TP_223084_20230205_20230311_02_T1 found.\n",
      "Image Z:\\guser\\tml\\mypapers\\HLS_package_paper\\package_validation\\landsat\\21HVB\\adjcorr\\LC09_L1TP_223085_20230205_20230311_02_T1 found.\n",
      "Image Z:\\guser\\tml\\mypapers\\HLS_package_paper\\package_validation\\landsat\\21HVB\\adjcorr\\LC09_L1TP_224084_20230503_20230503_02_T1 found.\n",
      "Image Z:\\guser\\tml\\mypapers\\HLS_package_paper\\package_validation\\landsat\\21HVB\\glintcorr\\LC08_L1TP_223084_20230504_20230509_02_T1 found.\n",
      "RunTiling\n",
      "Processing Landsat scene: Z:\\guser\\tml\\mypapers\\HLS_package_paper\\package_validation\\landsat\\21HVB\\glintcorr\\LC08_L1TP_223084_20230504_20230509_02_T1\n",
      "Image Z:\\guser\\tml\\mypapers\\HLS_package_paper\\package_validation\\landsat\\21HVB\\glintcorr\\LC08_L1TP_223085_20230504_20230509_02_T1 found.\n",
      "RunTiling\n",
      "Processing Landsat scene: Z:\\guser\\tml\\mypapers\\HLS_package_paper\\package_validation\\landsat\\21HVB\\glintcorr\\LC08_L1TP_223085_20230504_20230509_02_T1\n",
      "Image Z:\\guser\\tml\\mypapers\\HLS_package_paper\\package_validation\\landsat\\21HVB\\glintcorr\\LC08_L1TP_224084_20230204_20230209_02_T1 found.\n",
      "RunTiling\n",
      "Processing Landsat scene: Z:\\guser\\tml\\mypapers\\HLS_package_paper\\package_validation\\landsat\\21HVB\\glintcorr\\LC08_L1TP_224084_20230204_20230209_02_T1\n",
      "Image Z:\\guser\\tml\\mypapers\\HLS_package_paper\\package_validation\\landsat\\21HVB\\glintcorr\\LC09_L1TP_223084_20230205_20230311_02_T1 found.\n",
      "RunTiling\n",
      "Processing Landsat scene: Z:\\guser\\tml\\mypapers\\HLS_package_paper\\package_validation\\landsat\\21HVB\\glintcorr\\LC09_L1TP_223084_20230205_20230311_02_T1\n",
      "Image Z:\\guser\\tml\\mypapers\\HLS_package_paper\\package_validation\\landsat\\21HVB\\glintcorr\\LC09_L1TP_223085_20230205_20230311_02_T1 found.\n",
      "RunTiling\n",
      "Processing Landsat scene: Z:\\guser\\tml\\mypapers\\HLS_package_paper\\package_validation\\landsat\\21HVB\\glintcorr\\LC09_L1TP_223085_20230205_20230311_02_T1\n",
      "Image Z:\\guser\\tml\\mypapers\\HLS_package_paper\\package_validation\\landsat\\21HVB\\glintcorr\\LC09_L1TP_224084_20230503_20230503_02_T1 found.\n",
      "RunTiling\n",
      "Processing Landsat scene: Z:\\guser\\tml\\mypapers\\HLS_package_paper\\package_validation\\landsat\\21HVB\\glintcorr\\LC09_L1TP_224084_20230503_20230503_02_T1\n",
      "Image Z:\\guser\\tml\\mypapers\\HLS_package_paper\\package_validation\\landsat\\21HVB\\glintcorr\\LC08_L1TP_223084_20230504_20230509_02_T1 found.\n",
      "RunResample\n",
      "Image Z:\\guser\\tml\\mypapers\\HLS_package_paper\\package_validation\\landsat\\21HVB\\glintcorr\\LC08_L1TP_223085_20230504_20230509_02_T1 found.\n",
      "RunResample\n",
      "Image Z:\\guser\\tml\\mypapers\\HLS_package_paper\\package_validation\\landsat\\21HVB\\glintcorr\\LC08_L1TP_224084_20230204_20230209_02_T1 found.\n",
      "RunResample\n",
      "Image Z:\\guser\\tml\\mypapers\\HLS_package_paper\\package_validation\\landsat\\21HVB\\glintcorr\\LC09_L1TP_223084_20230205_20230311_02_T1 found.\n",
      "RunResample\n",
      "Image Z:\\guser\\tml\\mypapers\\HLS_package_paper\\package_validation\\landsat\\21HVB\\glintcorr\\LC09_L1TP_223085_20230205_20230311_02_T1 found.\n",
      "RunResample\n",
      "Image Z:\\guser\\tml\\mypapers\\HLS_package_paper\\package_validation\\landsat\\21HVB\\glintcorr\\LC09_L1TP_224084_20230503_20230503_02_T1 found.\n",
      "RunResample\n",
      "Image Z:\\guser\\tml\\mypapers\\HLS_package_paper\\package_validation\\landsat\\21HVB\\tiling\\LC08_L1TP_223084_20230504_20230509_02_T1 found.\n",
      "Running water mask processor on Z:\\guser\\tml\\mypapers\\HLS_package_paper\\package_validation\\landsat\\21HVB\\tiling\\LC08_L1TP_223084_20230504_20230509_02_T1 and saving to Z:\\guser\\tml\\mypapers\\HLS_package_paper\\package_validation\\landsat\\21HVB\\water_mask\\LC08_L1TP_223084_20230504_20230509_02_T1\n",
      "Image Z:\\guser\\tml\\mypapers\\HLS_package_paper\\package_validation\\landsat\\21HVB\\tiling\\LC08_L1TP_223085_20230504_20230509_02_T1 found.\n",
      "Running water mask processor on Z:\\guser\\tml\\mypapers\\HLS_package_paper\\package_validation\\landsat\\21HVB\\tiling\\LC08_L1TP_223085_20230504_20230509_02_T1 and saving to Z:\\guser\\tml\\mypapers\\HLS_package_paper\\package_validation\\landsat\\21HVB\\water_mask\\LC08_L1TP_223085_20230504_20230509_02_T1\n",
      "Image Z:\\guser\\tml\\mypapers\\HLS_package_paper\\package_validation\\landsat\\21HVB\\tiling\\LC08_L1TP_224084_20230204_20230209_02_T1 found.\n",
      "Running water mask processor on Z:\\guser\\tml\\mypapers\\HLS_package_paper\\package_validation\\landsat\\21HVB\\tiling\\LC08_L1TP_224084_20230204_20230209_02_T1 and saving to Z:\\guser\\tml\\mypapers\\HLS_package_paper\\package_validation\\landsat\\21HVB\\water_mask\\LC08_L1TP_224084_20230204_20230209_02_T1\n",
      "Image Z:\\guser\\tml\\mypapers\\HLS_package_paper\\package_validation\\landsat\\21HVB\\tiling\\LC09_L1TP_223084_20230205_20230311_02_T1 found.\n",
      "Running water mask processor on Z:\\guser\\tml\\mypapers\\HLS_package_paper\\package_validation\\landsat\\21HVB\\tiling\\LC09_L1TP_223084_20230205_20230311_02_T1 and saving to Z:\\guser\\tml\\mypapers\\HLS_package_paper\\package_validation\\landsat\\21HVB\\water_mask\\LC09_L1TP_223084_20230205_20230311_02_T1\n",
      "Image Z:\\guser\\tml\\mypapers\\HLS_package_paper\\package_validation\\landsat\\21HVB\\tiling\\LC09_L1TP_223085_20230205_20230311_02_T1 found.\n",
      "Running water mask processor on Z:\\guser\\tml\\mypapers\\HLS_package_paper\\package_validation\\landsat\\21HVB\\tiling\\LC09_L1TP_223085_20230205_20230311_02_T1 and saving to Z:\\guser\\tml\\mypapers\\HLS_package_paper\\package_validation\\landsat\\21HVB\\water_mask\\LC09_L1TP_223085_20230205_20230311_02_T1\n",
      "Image Z:\\guser\\tml\\mypapers\\HLS_package_paper\\package_validation\\landsat\\21HVB\\tiling\\LC09_L1TP_224084_20230503_20230503_02_T1 found.\n",
      "Running water mask processor on Z:\\guser\\tml\\mypapers\\HLS_package_paper\\package_validation\\landsat\\21HVB\\tiling\\LC09_L1TP_224084_20230503_20230503_02_T1 and saving to Z:\\guser\\tml\\mypapers\\HLS_package_paper\\package_validation\\landsat\\21HVB\\water_mask\\LC09_L1TP_224084_20230503_20230503_02_T1\n",
      "Image Z:\\guser\\tml\\mypapers\\HLS_package_paper\\package_validation\\landsat\\21HVB\\water_mask\\LC08_L1TP_223084_20230504_20230509_02_T1 found.\n",
      "Running AQUAVis product generator on Z:\\guser\\tml\\mypapers\\HLS_package_paper\\package_validation\\landsat\\21HVB\\water_mask\\LC08_L1TP_223084_20230504_20230509_02_T1 and saving to Z:\\guser\\tml\\mypapers\\HLS_package_paper\\package_validation\\landsat\\21HVB\\AQUAVis_Product\\LC08_L1TP_223084_20230504_20230509_02_T1\n",
      "Image Z:\\guser\\tml\\mypapers\\HLS_package_paper\\package_validation\\landsat\\21HVB\\water_mask\\LC08_L1TP_223085_20230504_20230509_02_T1 found.\n",
      "Running AQUAVis product generator on Z:\\guser\\tml\\mypapers\\HLS_package_paper\\package_validation\\landsat\\21HVB\\water_mask\\LC08_L1TP_223085_20230504_20230509_02_T1 and saving to Z:\\guser\\tml\\mypapers\\HLS_package_paper\\package_validation\\landsat\\21HVB\\AQUAVis_Product\\LC08_L1TP_223085_20230504_20230509_02_T1\n",
      "Image Z:\\guser\\tml\\mypapers\\HLS_package_paper\\package_validation\\landsat\\21HVB\\water_mask\\LC08_L1TP_224084_20230204_20230209_02_T1 found.\n",
      "Running AQUAVis product generator on Z:\\guser\\tml\\mypapers\\HLS_package_paper\\package_validation\\landsat\\21HVB\\water_mask\\LC08_L1TP_224084_20230204_20230209_02_T1 and saving to Z:\\guser\\tml\\mypapers\\HLS_package_paper\\package_validation\\landsat\\21HVB\\AQUAVis_Product\\LC08_L1TP_224084_20230204_20230209_02_T1\n"
     ]
    },
    {
     "name": "stderr",
     "output_type": "stream",
     "text": [
      "2025-04-23 17:31:28,300 - INFO - GDAL signalled an error: err_no=1, msg='Deleting Z:/guser/tml/mypapers/HLS_package_paper/package_validation/landsat/21HVB/AQUAVis_Product/AQUAVis_T21HVB_20230204T133800_L30_v1.0/AQUAVis_T21HVB_20230204T133800_L30_B02_v1.0.tif failed:\\nPermission denied'\n"
     ]
    },
    {
     "ename": "CPLE_AppDefinedError",
     "evalue": "Deleting Z:/guser/tml/mypapers/HLS_package_paper/package_validation/landsat/21HVB/AQUAVis_Product/AQUAVis_T21HVB_20230204T133800_L30_v1.0/AQUAVis_T21HVB_20230204T133800_L30_B02_v1.0.tif failed: Permission denied",
     "output_type": "error",
     "traceback": [
      "\u001B[1;31m---------------------------------------------------------------------------\u001B[0m",
      "\u001B[1;31mCPLE_AppDefinedError\u001B[0m                      Traceback (most recent call last)",
      "Cell \u001B[1;32mIn[1], line 14\u001B[0m\n\u001B[0;32m     11\u001B[0m output_dir \u001B[38;5;241m=\u001B[39m \u001B[38;5;124mrf\u001B[39m\u001B[38;5;124m'\u001B[39m\u001B[38;5;124mZ:\u001B[39m\u001B[38;5;124m\\\u001B[39m\u001B[38;5;124mguser\u001B[39m\u001B[38;5;124m\\\u001B[39m\u001B[38;5;124mtml\u001B[39m\u001B[38;5;124m\\\u001B[39m\u001B[38;5;124mmypapers\u001B[39m\u001B[38;5;124m\\\u001B[39m\u001B[38;5;124mHLS_package_paper\u001B[39m\u001B[38;5;124m\\\u001B[39m\u001B[38;5;124mpackage_validation\u001B[39m\u001B[38;5;124m\\\u001B[39m\u001B[38;5;124mlandsat\u001B[39m\u001B[38;5;124m\\\u001B[39m\u001B[38;5;132;01m{\u001B[39;00mtile\u001B[38;5;132;01m}\u001B[39;00m\u001B[38;5;124m'\u001B[39m\n\u001B[0;32m     13\u001B[0m \u001B[38;5;28;01mif\u001B[39;00m \u001B[38;5;129;01mnot\u001B[39;00m os\u001B[38;5;241m.\u001B[39mpath\u001B[38;5;241m.\u001B[39mexists(output_dir): os\u001B[38;5;241m.\u001B[39mmakedirs(output_dir)\n\u001B[1;32m---> 14\u001B[0m \u001B[43mpipeline\u001B[49m\u001B[38;5;241;43m.\u001B[39;49m\u001B[43mrun_aquavis\u001B[49m\u001B[43m(\u001B[49m\u001B[43mselect_sat\u001B[49m\u001B[43m,\u001B[49m\u001B[43m \u001B[49m\u001B[43mtile\u001B[49m\u001B[43m,\u001B[49m\u001B[43m \u001B[49m\u001B[43mperiod_ini\u001B[49m\u001B[43m,\u001B[49m\u001B[43m \u001B[49m\u001B[43mperiod_end\u001B[49m\u001B[43m,\u001B[49m\u001B[43m \u001B[49m\u001B[43moutput_dir\u001B[49m\u001B[43m,\u001B[49m\u001B[43m \u001B[49m\u001B[38;5;124;43m\"\u001B[39;49m\u001B[38;5;124;43mrho\u001B[39;49m\u001B[38;5;124;43m\"\u001B[39;49m\u001B[43m)\u001B[49m\n",
      "File \u001B[1;32mH:\\My Drive\\PhD\\aquavis_package - Copia\\src\\aquavis\\core\\pipeline.py:43\u001B[0m, in \u001B[0;36mrun_aquavis\u001B[1;34m(select_sat, tile, period_ini, period_end, output_dir, output_type)\u001B[0m\n\u001B[0;32m     40\u001B[0m     logging\u001B[38;5;241m.\u001B[39merror(\u001B[38;5;124mf\u001B[39m\u001B[38;5;124m\"\u001B[39m\u001B[38;5;124mFailed to initialize SatWater: \u001B[39m\u001B[38;5;132;01m{\u001B[39;00me\u001B[38;5;132;01m}\u001B[39;00m\u001B[38;5;124m\"\u001B[39m)\n\u001B[0;32m     41\u001B[0m     \u001B[38;5;28;01mraise\u001B[39;00m\n\u001B[1;32m---> 43\u001B[0m \u001B[43mAQUAVis_i\u001B[49m\u001B[38;5;241;43m.\u001B[39;49m\u001B[43mrun\u001B[49m\u001B[43m(\u001B[49m\u001B[43m)\u001B[49m\n\u001B[0;32m     45\u001B[0m logging\u001B[38;5;241m.\u001B[39minfo(\u001B[38;5;124m\"\u001B[39m\u001B[38;5;124mProcess finished successfully.\u001B[39m\u001B[38;5;124m\"\u001B[39m)\n",
      "File \u001B[1;32mH:\\My Drive\\PhD\\aquavis_package - Copia\\src\\aquavis\\processors\\base.py:78\u001B[0m, in \u001B[0;36mProcessorFunctions.run\u001B[1;34m(self)\u001B[0m\n\u001B[0;32m     75\u001B[0m input_paths \u001B[38;5;241m=\u001B[39m config\u001B[38;5;241m.\u001B[39minput_func()\n\u001B[0;32m     76\u001B[0m output_paths \u001B[38;5;241m=\u001B[39m config\u001B[38;5;241m.\u001B[39moutput_func()\n\u001B[1;32m---> 78\u001B[0m \u001B[43mtoolbox\u001B[49m\u001B[38;5;241;43m.\u001B[39;49m\u001B[43m_process_images\u001B[49m\u001B[43m(\u001B[49m\u001B[43mconfig\u001B[49m\u001B[38;5;241;43m.\u001B[39;49m\u001B[43mprocessor\u001B[49m\u001B[43m,\u001B[49m\u001B[43m \u001B[49m\u001B[43minput_paths\u001B[49m\u001B[43m,\u001B[49m\u001B[43m \u001B[49m\u001B[43moutput_paths\u001B[49m\u001B[43m)\u001B[49m\n",
      "File \u001B[1;32mH:\\My Drive\\PhD\\aquavis_package - Copia\\src\\aquavis\\utils\\toolbox_processors.py:21\u001B[0m, in \u001B[0;36m_process_images\u001B[1;34m(correction, input_paths, output_paths)\u001B[0m\n\u001B[0;32m     18\u001B[0m     \u001B[38;5;28mprint\u001B[39m(\u001B[38;5;124mf\u001B[39m\u001B[38;5;124m\"\u001B[39m\u001B[38;5;124mImage \u001B[39m\u001B[38;5;132;01m{\u001B[39;00mimg_path\u001B[38;5;132;01m}\u001B[39;00m\u001B[38;5;124m found.\u001B[39m\u001B[38;5;124m\"\u001B[39m)\n\u001B[0;32m     19\u001B[0m     \u001B[38;5;66;03m#continue\u001B[39;00m\n\u001B[1;32m---> 21\u001B[0m \u001B[43mcorrection\u001B[49m\u001B[38;5;241;43m.\u001B[39;49m\u001B[43mrun\u001B[49m\u001B[43m(\u001B[49m\u001B[43mimg_path\u001B[49m\u001B[43m,\u001B[49m\u001B[43m \u001B[49m\u001B[43mout_path\u001B[49m\u001B[43m)\u001B[49m\n",
      "File \u001B[1;32mH:\\My Drive\\PhD\\aquavis_package - Copia\\src\\aquavis\\processors\\aquavis_product_generator\\generate_aquavis.py:176\u001B[0m, in \u001B[0;36mAQUAVisProductGenerator.run\u001B[1;34m(self, scene_path, output_path)\u001B[0m\n\u001B[0;32m    174\u001B[0m \u001B[38;5;66;03m# Process all bands\u001B[39;00m\n\u001B[0;32m    175\u001B[0m sentinel_bands \u001B[38;5;241m=\u001B[39m [\u001B[38;5;124m'\u001B[39m\u001B[38;5;124mB02\u001B[39m\u001B[38;5;124m'\u001B[39m, \u001B[38;5;124m'\u001B[39m\u001B[38;5;124mB03\u001B[39m\u001B[38;5;124m'\u001B[39m, \u001B[38;5;124m'\u001B[39m\u001B[38;5;124mB04\u001B[39m\u001B[38;5;124m'\u001B[39m, \u001B[38;5;124m'\u001B[39m\u001B[38;5;124mB05\u001B[39m\u001B[38;5;124m'\u001B[39m, \u001B[38;5;124m'\u001B[39m\u001B[38;5;124mB06\u001B[39m\u001B[38;5;124m'\u001B[39m, \u001B[38;5;124m'\u001B[39m\u001B[38;5;124mB07\u001B[39m\u001B[38;5;124m'\u001B[39m, \u001B[38;5;124m'\u001B[39m\u001B[38;5;124mB8A\u001B[39m\u001B[38;5;124m'\u001B[39m, \u001B[38;5;124m'\u001B[39m\u001B[38;5;124mB11\u001B[39m\u001B[38;5;124m'\u001B[39m, \u001B[38;5;124m'\u001B[39m\u001B[38;5;124mB12\u001B[39m\u001B[38;5;124m'\u001B[39m]\n\u001B[1;32m--> 176\u001B[0m \u001B[38;5;28;43mself\u001B[39;49m\u001B[38;5;241;43m.\u001B[39;49m\u001B[43m_process_bands\u001B[49m\u001B[43m(\u001B[49m\u001B[43msentinel_bands\u001B[49m\u001B[43m,\u001B[49m\u001B[43m \u001B[49m\u001B[43mscene_path\u001B[49m\u001B[43m,\u001B[49m\u001B[43m \u001B[49m\u001B[43mout_dir_hls\u001B[49m\u001B[43m)\u001B[49m\n\u001B[0;32m    178\u001B[0m \u001B[38;5;66;03m# Process cloud and QA data\u001B[39;00m\n\u001B[0;32m    179\u001B[0m \u001B[38;5;28mself\u001B[39m\u001B[38;5;241m.\u001B[39m_process_cloud_data(scene_path)\n",
      "File \u001B[1;32mH:\\My Drive\\PhD\\aquavis_package - Copia\\src\\aquavis\\processors\\aquavis_product_generator\\generate_aquavis.py:116\u001B[0m, in \u001B[0;36mAQUAVisProductGenerator._process_bands\u001B[1;34m(self, sentinel_bands, scene_path, out_dir_hls)\u001B[0m\n\u001B[0;32m    114\u001B[0m out_filename \u001B[38;5;241m=\u001B[39m \u001B[38;5;28mself\u001B[39m\u001B[38;5;241m.\u001B[39m_generate_product_name(band_nmi)\n\u001B[0;32m    115\u001B[0m out_path \u001B[38;5;241m=\u001B[39m Path(out_dir_hls) \u001B[38;5;241m/\u001B[39m out_filename\n\u001B[1;32m--> 116\u001B[0m \u001B[38;5;28;43mself\u001B[39;49m\u001B[38;5;241;43m.\u001B[39;49m\u001B[43mconvert_float_to_int16\u001B[49m\u001B[43m(\u001B[49m\u001B[43mfile_band\u001B[49m\u001B[43m,\u001B[49m\u001B[43m \u001B[49m\u001B[38;5;28;43mstr\u001B[39;49m\u001B[43m(\u001B[49m\u001B[43mout_path\u001B[49m\u001B[43m)\u001B[49m\u001B[43m)\u001B[49m\n",
      "File \u001B[1;32mH:\\My Drive\\PhD\\aquavis_package - Copia\\src\\aquavis\\processors\\aquavis_product_generator\\generate_aquavis.py:49\u001B[0m, in \u001B[0;36mAQUAVisProductGenerator.convert_float_to_int16\u001B[1;34m(self, input_raster, output_raster, scale_factor, nodata)\u001B[0m\n\u001B[0;32m     42\u001B[0m kwargs \u001B[38;5;241m=\u001B[39m src\u001B[38;5;241m.\u001B[39mmeta\u001B[38;5;241m.\u001B[39mcopy()\n\u001B[0;32m     43\u001B[0m kwargs\u001B[38;5;241m.\u001B[39mupdate({\n\u001B[0;32m     44\u001B[0m     \u001B[38;5;124m'\u001B[39m\u001B[38;5;124mdtype\u001B[39m\u001B[38;5;124m'\u001B[39m: rasterio\u001B[38;5;241m.\u001B[39mint16,\n\u001B[0;32m     45\u001B[0m     \u001B[38;5;124m'\u001B[39m\u001B[38;5;124mnodata\u001B[39m\u001B[38;5;124m'\u001B[39m: nodata,\n\u001B[0;32m     46\u001B[0m     \u001B[38;5;124m'\u001B[39m\u001B[38;5;124mcompress\u001B[39m\u001B[38;5;124m'\u001B[39m: \u001B[38;5;124m'\u001B[39m\u001B[38;5;124mlzw\u001B[39m\u001B[38;5;124m'\u001B[39m\n\u001B[0;32m     47\u001B[0m })\n\u001B[1;32m---> 49\u001B[0m \u001B[38;5;28;01mwith\u001B[39;00m \u001B[43mrasterio\u001B[49m\u001B[38;5;241;43m.\u001B[39;49m\u001B[43mopen\u001B[49m\u001B[43m(\u001B[49m\u001B[43moutput_raster\u001B[49m\u001B[43m,\u001B[49m\u001B[43m \u001B[49m\u001B[38;5;124;43m'\u001B[39;49m\u001B[38;5;124;43mw\u001B[39;49m\u001B[38;5;124;43m'\u001B[39;49m\u001B[43m,\u001B[49m\u001B[43m \u001B[49m\u001B[38;5;241;43m*\u001B[39;49m\u001B[38;5;241;43m*\u001B[39;49m\u001B[43mkwargs\u001B[49m\u001B[43m)\u001B[49m \u001B[38;5;28;01mas\u001B[39;00m dst:\n\u001B[0;32m     50\u001B[0m     dst\u001B[38;5;241m.\u001B[39mwrite(arr\u001B[38;5;241m.\u001B[39mastype(rasterio\u001B[38;5;241m.\u001B[39mint16), \u001B[38;5;241m1\u001B[39m)\n",
      "File \u001B[1;32m~\\AppData\\Local\\anaconda3\\envs\\geospatial\\Lib\\site-packages\\rasterio\\env.py:451\u001B[0m, in \u001B[0;36mensure_env_with_credentials.<locals>.wrapper\u001B[1;34m(*args, **kwds)\u001B[0m\n\u001B[0;32m    448\u001B[0m     session \u001B[38;5;241m=\u001B[39m DummySession()\n\u001B[0;32m    450\u001B[0m \u001B[38;5;28;01mwith\u001B[39;00m env_ctor(session\u001B[38;5;241m=\u001B[39msession):\n\u001B[1;32m--> 451\u001B[0m     \u001B[38;5;28;01mreturn\u001B[39;00m \u001B[43mf\u001B[49m\u001B[43m(\u001B[49m\u001B[38;5;241;43m*\u001B[39;49m\u001B[43margs\u001B[49m\u001B[43m,\u001B[49m\u001B[43m \u001B[49m\u001B[38;5;241;43m*\u001B[39;49m\u001B[38;5;241;43m*\u001B[39;49m\u001B[43mkwds\u001B[49m\u001B[43m)\u001B[49m\n",
      "File \u001B[1;32m~\\AppData\\Local\\anaconda3\\envs\\geospatial\\Lib\\site-packages\\rasterio\\__init__.py:327\u001B[0m, in \u001B[0;36mopen\u001B[1;34m(fp, mode, driver, width, height, count, crs, transform, dtype, nodata, sharing, **kwargs)\u001B[0m\n\u001B[0;32m    325\u001B[0m writer \u001B[38;5;241m=\u001B[39m get_writer_for_driver(driver)\n\u001B[0;32m    326\u001B[0m \u001B[38;5;28;01mif\u001B[39;00m writer \u001B[38;5;129;01mis\u001B[39;00m \u001B[38;5;129;01mnot\u001B[39;00m \u001B[38;5;28;01mNone\u001B[39;00m:\n\u001B[1;32m--> 327\u001B[0m     dataset \u001B[38;5;241m=\u001B[39m \u001B[43mwriter\u001B[49m\u001B[43m(\u001B[49m\n\u001B[0;32m    328\u001B[0m \u001B[43m        \u001B[49m\u001B[43mpath\u001B[49m\u001B[43m,\u001B[49m\n\u001B[0;32m    329\u001B[0m \u001B[43m        \u001B[49m\u001B[43mmode\u001B[49m\u001B[43m,\u001B[49m\n\u001B[0;32m    330\u001B[0m \u001B[43m        \u001B[49m\u001B[43mdriver\u001B[49m\u001B[38;5;241;43m=\u001B[39;49m\u001B[43mdriver\u001B[49m\u001B[43m,\u001B[49m\n\u001B[0;32m    331\u001B[0m \u001B[43m        \u001B[49m\u001B[43mwidth\u001B[49m\u001B[38;5;241;43m=\u001B[39;49m\u001B[43mwidth\u001B[49m\u001B[43m,\u001B[49m\n\u001B[0;32m    332\u001B[0m \u001B[43m        \u001B[49m\u001B[43mheight\u001B[49m\u001B[38;5;241;43m=\u001B[39;49m\u001B[43mheight\u001B[49m\u001B[43m,\u001B[49m\n\u001B[0;32m    333\u001B[0m \u001B[43m        \u001B[49m\u001B[43mcount\u001B[49m\u001B[38;5;241;43m=\u001B[39;49m\u001B[43mcount\u001B[49m\u001B[43m,\u001B[49m\n\u001B[0;32m    334\u001B[0m \u001B[43m        \u001B[49m\u001B[43mcrs\u001B[49m\u001B[38;5;241;43m=\u001B[39;49m\u001B[43mcrs\u001B[49m\u001B[43m,\u001B[49m\n\u001B[0;32m    335\u001B[0m \u001B[43m        \u001B[49m\u001B[43mtransform\u001B[49m\u001B[38;5;241;43m=\u001B[39;49m\u001B[43mtransform\u001B[49m\u001B[43m,\u001B[49m\n\u001B[0;32m    336\u001B[0m \u001B[43m        \u001B[49m\u001B[43mdtype\u001B[49m\u001B[38;5;241;43m=\u001B[39;49m\u001B[43mdtype\u001B[49m\u001B[43m,\u001B[49m\n\u001B[0;32m    337\u001B[0m \u001B[43m        \u001B[49m\u001B[43mnodata\u001B[49m\u001B[38;5;241;43m=\u001B[39;49m\u001B[43mnodata\u001B[49m\u001B[43m,\u001B[49m\n\u001B[0;32m    338\u001B[0m \u001B[43m        \u001B[49m\u001B[43msharing\u001B[49m\u001B[38;5;241;43m=\u001B[39;49m\u001B[43msharing\u001B[49m\u001B[43m,\u001B[49m\n\u001B[0;32m    339\u001B[0m \u001B[43m        \u001B[49m\u001B[38;5;241;43m*\u001B[39;49m\u001B[38;5;241;43m*\u001B[39;49m\u001B[43mkwargs\u001B[49m\n\u001B[0;32m    340\u001B[0m \u001B[43m    \u001B[49m\u001B[43m)\u001B[49m\n\u001B[0;32m    341\u001B[0m \u001B[38;5;28;01melse\u001B[39;00m:\n\u001B[0;32m    342\u001B[0m     \u001B[38;5;28;01mraise\u001B[39;00m DriverCapabilityError(\n\u001B[0;32m    343\u001B[0m         \u001B[38;5;124m\"\u001B[39m\u001B[38;5;124mWriter does not exist for driver: \u001B[39m\u001B[38;5;132;01m%s\u001B[39;00m\u001B[38;5;124m\"\u001B[39m \u001B[38;5;241m%\u001B[39m \u001B[38;5;28mstr\u001B[39m(driver)\n\u001B[0;32m    344\u001B[0m     )\n",
      "File \u001B[1;32mrasterio\\\\_io.pyx:1466\u001B[0m, in \u001B[0;36mrasterio._io.DatasetWriterBase.__init__\u001B[1;34m()\u001B[0m\n",
      "File \u001B[1;32mrasterio\\\\_io.pyx:332\u001B[0m, in \u001B[0;36mrasterio._io._delete_dataset_if_exists\u001B[1;34m()\u001B[0m\n",
      "File \u001B[1;32mrasterio\\\\_err.pyx:195\u001B[0m, in \u001B[0;36mrasterio._err.exc_wrap_int\u001B[1;34m()\u001B[0m\n",
      "\u001B[1;31mCPLE_AppDefinedError\u001B[0m: Deleting Z:/guser/tml/mypapers/HLS_package_paper/package_validation/landsat/21HVB/AQUAVis_Product/AQUAVis_T21HVB_20230204T133800_L30_v1.0/AQUAVis_T21HVB_20230204T133800_L30_B02_v1.0.tif failed: Permission denied"
     ]
    }
   ],
   "source": [
    "import os\n",
    "from src.aquavis.core import pipeline\n",
    "\n",
    "tiles = ['21HVB']\n",
    "\n",
    "select_sat = 'landsat'\n",
    "period_ini = '20230503'\n",
    "period_end = '20230505'\n",
    "    \n",
    "for tile in tiles:\n",
    "    output_dir = rf'Z:\\guser\\tml\\mypapers\\HLS_package_paper\\package_validation\\landsat\\{tile}'\n",
    "    \n",
    "    if not os.path.exists(output_dir): os.makedirs(output_dir)\n",
    "    pipeline.run_aquavis(select_sat, tile, period_ini, period_end, output_dir, \"rho\")"
   ],
   "metadata": {
    "collapsed": false,
    "ExecuteTime": {
     "end_time": "2025-04-23T22:31:28.546554700Z",
     "start_time": "2025-04-23T21:53:56.027978Z"
    }
   },
   "id": "646607545a55bae0"
  },
  {
   "cell_type": "code",
   "execution_count": 1,
   "outputs": [],
   "source": [],
   "metadata": {
    "collapsed": false,
    "ExecuteTime": {
     "end_time": "2025-04-23T14:17:49.028542100Z",
     "start_time": "2025-04-23T14:17:49.018342100Z"
    }
   },
   "id": "c525f6b9cd7f4cab"
  }
 ],
 "metadata": {
  "kernelspec": {
   "display_name": "Python 3",
   "language": "python",
   "name": "python3"
  },
  "language_info": {
   "codemirror_mode": {
    "name": "ipython",
    "version": 2
   },
   "file_extension": ".py",
   "mimetype": "text/x-python",
   "name": "python",
   "nbconvert_exporter": "python",
   "pygments_lexer": "ipython2",
   "version": "2.7.6"
  }
 },
 "nbformat": 4,
 "nbformat_minor": 5
}
