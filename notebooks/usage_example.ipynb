{
 "cells": [
  {
   "cell_type": "code",
   "execution_count": 3,
   "outputs": [
    {
     "data": {
      "text/plain": "<IPython.core.display.HTML object>",
      "text/html": "\n            <style>\n                .geemap-dark {\n                    --jp-widgets-color: white;\n                    --jp-widgets-label-color: white;\n                    --jp-ui-font-color1: white;\n                    --jp-layout-color2: #454545;\n                    background-color: #383838;\n                }\n\n                .geemap-dark .jupyter-button {\n                    --jp-layout-color3: #383838;\n                }\n\n                .geemap-colab {\n                    background-color: var(--colab-primary-surface-color, white);\n                }\n\n                .geemap-colab .jupyter-button {\n                    --jp-layout-color3: var(--colab-primary-surface-color, white);\n                }\n            </style>\n            "
     },
     "metadata": {},
     "output_type": "display_data"
    },
    {
     "name": "stderr",
     "output_type": "stream",
     "text": [
      "2025-03-27 09:53:42,421 - INFO - Output directory already exists: Z:\\guser\\tml\\mypapers\\HLS_package_paper\\package_validation\\landsat\\21HVB\n"
     ]
    },
    {
     "name": "stdout",
     "output_type": "stream",
     "text": [
      "No images found for tile 224_085. Skipping...\n",
      "No images found for tile 223_085. Skipping...\n",
      "No images found for tile 223_084. Skipping...\n",
      "LC08_L1TP_224084_20230204_20230209_02_T1\n"
     ]
    },
    {
     "name": "stderr",
     "output_type": "stream",
     "text": [
      "C:\\Users\\tml411\\Documents\\Python Scripts\\hls_water\\src\\satwater\\atmcor\\atmcor_water\\toolbox.py:205: UserWarning: Geometry is in a geographic CRS. Results from 'area' are likely incorrect. Use 'GeoSeries.to_crs()' to re-project geometries to a projected CRS before this operation.\n",
      "\n",
      "  gdf_tile['area'] = gdf_tile['geometry'].area\n"
     ]
    },
    {
     "name": "stdout",
     "output_type": "stream",
     "text": [
      "GCER Atmos correction applied.\n",
      "Cloud mask applied.\n",
      "Atmospheric correction completed successfully.\n",
      "Adjacent correction completed successfully.\n",
      "Glint correction completed successfully.\n"
     ]
    },
    {
     "name": "stderr",
     "output_type": "stream",
     "text": [
      "2025-03-27 10:05:59,863 - INFO - Created 1 records\n"
     ]
    },
    {
     "name": "stdout",
     "output_type": "stream",
     "text": [
      "Processing Landsat scene: Z:\\guser\\tml\\mypapers\\HLS_package_paper\\package_validation\\landsat\\21HVB\\glintcorr\\LC08_L1TP_224084_20230204_20230209_02_T1\n",
      "Completed processing for Sentinel tile: 21HVB\n",
      "Tiling completed successfully.\n"
     ]
    },
    {
     "name": "stderr",
     "output_type": "stream",
     "text": [
      "2025-03-27 10:08:02,321 - INFO - Created 1 records\n"
     ]
    },
    {
     "name": "stdout",
     "output_type": "stream",
     "text": [
      "Generating URL ...\n",
      "Downloading data from https://earthengine.googleapis.com/v1/projects/ee-thaimunhoz98/thumbnails/ce9f193de17b47f78abd8189bcb54ec3-9f999fb4d722fcfd3b76b58cad26f2ab:getPixels\n",
      "Please wait ...\n",
      "Data downloaded to C:\\Users\\tml411\\Documents\\Python Scripts\\hls_water\\notebooks\\water_mask_jrc.tif\n",
      "Water mask generation completed successfully.\n",
      "No cloud information found for scene Z:\\guser\\tml\\mypapers\\HLS_package_paper\\package_validation\\landsat\\21HVB\\water_mask\\LC08_L1TP_224084_20230204_20230209_02_T1\n"
     ]
    },
    {
     "name": "stderr",
     "output_type": "stream",
     "text": [
      "C:\\Users\\tml411\\Documents\\Python Scripts\\hls_water\\src\\satwater\\aquavis_product_generator\\generate_aquavis.py:118: SyntaxWarning: invalid escape sequence '\\*'\n",
      "  scene_all_bands = glob.glob(f\"{scene_path}\\**.tif\")\n"
     ]
    },
    {
     "ename": "AttributeError",
     "evalue": "'NoneType' object has no attribute 'astype'",
     "output_type": "error",
     "traceback": [
      "\u001B[1;31m---------------------------------------------------------------------------\u001B[0m",
      "\u001B[1;31mAttributeError\u001B[0m                            Traceback (most recent call last)",
      "Cell \u001B[1;32mIn[3], line 14\u001B[0m\n\u001B[0;32m     11\u001B[0m output_dir \u001B[38;5;241m=\u001B[39m \u001B[38;5;124mrf\u001B[39m\u001B[38;5;124m'\u001B[39m\u001B[38;5;124mZ:\u001B[39m\u001B[38;5;124m\\\u001B[39m\u001B[38;5;124mguser\u001B[39m\u001B[38;5;124m\\\u001B[39m\u001B[38;5;124mtml\u001B[39m\u001B[38;5;124m\\\u001B[39m\u001B[38;5;124mmypapers\u001B[39m\u001B[38;5;124m\\\u001B[39m\u001B[38;5;124mHLS_package_paper\u001B[39m\u001B[38;5;124m\\\u001B[39m\u001B[38;5;124mpackage_validation\u001B[39m\u001B[38;5;124m\\\u001B[39m\u001B[38;5;124mlandsat\u001B[39m\u001B[38;5;124m\\\u001B[39m\u001B[38;5;132;01m{\u001B[39;00mtile\u001B[38;5;132;01m}\u001B[39;00m\u001B[38;5;124m'\u001B[39m\n\u001B[0;32m     13\u001B[0m \u001B[38;5;28;01mif\u001B[39;00m \u001B[38;5;129;01mnot\u001B[39;00m os\u001B[38;5;241m.\u001B[39mpath\u001B[38;5;241m.\u001B[39mexists(output_dir): os\u001B[38;5;241m.\u001B[39mmakedirs\n\u001B[1;32m---> 14\u001B[0m \u001B[43mrun_satwater\u001B[49m\u001B[43m(\u001B[49m\u001B[43mselect_sat\u001B[49m\u001B[43m,\u001B[49m\u001B[43m \u001B[49m\u001B[43mtile\u001B[49m\u001B[43m,\u001B[49m\u001B[43m \u001B[49m\u001B[43mperiod_ini\u001B[49m\u001B[43m,\u001B[49m\u001B[43m \u001B[49m\u001B[43mperiod_end\u001B[49m\u001B[43m,\u001B[49m\u001B[43m \u001B[49m\u001B[43moutput_dir\u001B[49m\u001B[43m,\u001B[49m\u001B[43m \u001B[49m\u001B[38;5;28;43;01mTrue\u001B[39;49;00m\u001B[43m,\u001B[49m\u001B[43m \u001B[49m\u001B[38;5;124;43m\"\u001B[39;49m\u001B[38;5;124;43mGCER\u001B[39;49m\u001B[38;5;124;43m\"\u001B[39;49m\u001B[43m,\u001B[49m\u001B[43m \u001B[49m\u001B[38;5;28;43;01mFalse\u001B[39;49;00m\u001B[43m,\u001B[49m\u001B[43m \u001B[49m\u001B[38;5;124;43m\"\u001B[39;49m\u001B[38;5;124;43mrho\u001B[39;49m\u001B[38;5;124;43m\"\u001B[39;49m\u001B[43m)\u001B[49m\n",
      "File \u001B[1;32m~\\Documents\\Python Scripts\\hls_water\\src\\run_aquavis.py:86\u001B[0m, in \u001B[0;36mrun_satwater\u001B[1;34m(select_sat, tile, period_ini, period_end, output_dir, keep_atmcor, input_toa, brdf_corr, output_type)\u001B[0m\n\u001B[0;32m     82\u001B[0m     SatWater_i\u001B[38;5;241m.\u001B[39mrun_resample() \u001B[38;5;66;03m# 4. Resampling and bandpass adjustment for Sentinel-2\u001B[39;00m\n\u001B[0;32m     84\u001B[0m SatWater_i\u001B[38;5;241m.\u001B[39mrun_water_mask() \u001B[38;5;66;03m# 5. Water mask generation\u001B[39;00m\n\u001B[1;32m---> 86\u001B[0m \u001B[43mSatWater_i\u001B[49m\u001B[38;5;241;43m.\u001B[39;49m\u001B[43mrun_hlswater\u001B[49m\u001B[43m(\u001B[49m\u001B[43m)\u001B[49m \u001B[38;5;66;03m# 6. HLS water generation\u001B[39;00m\n\u001B[0;32m     88\u001B[0m \u001B[38;5;66;03m#SatWater_i.run_plot() # 7. Plotting\u001B[39;00m\n\u001B[0;32m     90\u001B[0m logging\u001B[38;5;241m.\u001B[39minfo(\u001B[38;5;124m\"\u001B[39m\u001B[38;5;124mProcess finished successfully.\u001B[39m\u001B[38;5;124m\"\u001B[39m)\n",
      "File \u001B[1;32m~\\Documents\\Python Scripts\\hls_water\\src\\satwater\\build_aquavis.py:134\u001B[0m, in \u001B[0;36mSatWater.run_hlswater\u001B[1;34m(self)\u001B[0m\n\u001B[0;32m    128\u001B[0m \u001B[38;5;28;01mdef\u001B[39;00m \u001B[38;5;21mrun_hlswater\u001B[39m(\u001B[38;5;28mself\u001B[39m) \u001B[38;5;241m-\u001B[39m\u001B[38;5;241m>\u001B[39m \u001B[38;5;28;01mNone\u001B[39;00m:\n\u001B[0;32m    130\u001B[0m \u001B[38;5;250m    \u001B[39m\u001B[38;5;124;03m\"\"\"\u001B[39;00m\n\u001B[0;32m    131\u001B[0m \u001B[38;5;124;03m    Generate synthetic HLS water images.\u001B[39;00m\n\u001B[0;32m    132\u001B[0m \u001B[38;5;124;03m    \"\"\"\u001B[39;00m\n\u001B[1;32m--> 134\u001B[0m     \u001B[43maquavis\u001B[49m\u001B[38;5;241;43m.\u001B[39;49m\u001B[43mrun\u001B[49m\u001B[43m(\u001B[49m\u001B[38;5;28;43mself\u001B[39;49m\u001B[38;5;241;43m.\u001B[39;49m\u001B[43mparams\u001B[49m\u001B[43m)\u001B[49m\n\u001B[0;32m    135\u001B[0m     \u001B[38;5;28mprint\u001B[39m(\u001B[38;5;124m\"\u001B[39m\u001B[38;5;124mHLS water image generation completed successfully.\u001B[39m\u001B[38;5;124m\"\u001B[39m)\n",
      "File \u001B[1;32m~\\Documents\\Python Scripts\\hls_water\\src\\satwater\\aquavis_product_generator\\generate_aquavis.py:205\u001B[0m, in \u001B[0;36mrun\u001B[1;34m(params)\u001B[0m\n\u001B[0;32m    202\u001B[0m n_params \u001B[38;5;241m=\u001B[39m [params] \u001B[38;5;241m*\u001B[39m \u001B[38;5;28mlen\u001B[39m(scenes)\n\u001B[0;32m    204\u001B[0m \u001B[38;5;28;01mfor\u001B[39;00m scene \u001B[38;5;129;01min\u001B[39;00m scenes:\n\u001B[1;32m--> 205\u001B[0m     \u001B[43mgen_hls\u001B[49m\u001B[43m(\u001B[49m\u001B[43mscene\u001B[49m\u001B[43m,\u001B[49m\u001B[43m \u001B[49m\u001B[43mparams\u001B[49m\u001B[43m)\u001B[49m\n\u001B[0;32m    207\u001B[0m \u001B[38;5;66;03m# with multiprocessing.Pool(processes=params['aux_info']['n_cores']) as pool:\u001B[39;00m\n\u001B[0;32m    208\u001B[0m \u001B[38;5;66;03m#     results = pool.starmap_async(gen_hls, zip(scenes, n_params)).get()\u001B[39;00m\n\u001B[0;32m    209\u001B[0m \u001B[38;5;66;03m#     print(results)\u001B[39;00m\n\u001B[0;32m    210\u001B[0m \u001B[38;5;66;03m#     pool.close()\u001B[39;00m\n\u001B[0;32m    212\u001B[0m atmcor_folder \u001B[38;5;241m=\u001B[39m \u001B[38;5;124mfr\u001B[39m\u001B[38;5;124m'\u001B[39m\u001B[38;5;132;01m{\u001B[39;00mparams[\u001B[38;5;124m\"\u001B[39m\u001B[38;5;124moutput_dir\u001B[39m\u001B[38;5;124m\"\u001B[39m]\u001B[38;5;132;01m}\u001B[39;00m\u001B[38;5;124m\\\u001B[39m\u001B[38;5;124matmcor\u001B[39m\u001B[38;5;124m'\u001B[39m\n",
      "File \u001B[1;32m~\\Documents\\Python Scripts\\hls_water\\src\\satwater\\aquavis_product_generator\\generate_aquavis.py:164\u001B[0m, in \u001B[0;36mgen_hls\u001B[1;34m(scene_path, params)\u001B[0m\n\u001B[0;32m    161\u001B[0m     \u001B[38;5;28mprint\u001B[39m(\u001B[38;5;124mf\u001B[39m\u001B[38;5;124m\"\u001B[39m\u001B[38;5;124mNo cloud information found for scene \u001B[39m\u001B[38;5;132;01m{\u001B[39;00mscene_path\u001B[38;5;132;01m}\u001B[39;00m\u001B[38;5;124m\"\u001B[39m)\n\u001B[0;32m    163\u001B[0m \u001B[38;5;66;03m#Save QA flag band\u001B[39;00m\n\u001B[1;32m--> 164\u001B[0m qa_band \u001B[38;5;241m=\u001B[39m \u001B[43mqa_flag_band\u001B[49m\u001B[38;5;241;43m.\u001B[39;49m\u001B[43mrun_qa_flag\u001B[49m\u001B[43m(\u001B[49m\u001B[43mparams\u001B[49m\u001B[43m,\u001B[49m\u001B[43m \u001B[49m\u001B[43mscene_path\u001B[49m\u001B[43m)\u001B[49m\n\u001B[0;32m    165\u001B[0m qa_band_path \u001B[38;5;241m=\u001B[39m os\u001B[38;5;241m.\u001B[39mpath\u001B[38;5;241m.\u001B[39mjoin(out_dir_hls, cloudname)\n\u001B[0;32m    166\u001B[0m qa_band\u001B[38;5;241m.\u001B[39mrio\u001B[38;5;241m.\u001B[39mto_raster(qa_band_path)\n",
      "File \u001B[1;32m~\\Documents\\Python Scripts\\hls_water\\src\\satwater\\qa_flag_band\\qa_flag_band.py:94\u001B[0m, in \u001B[0;36mrun_qa_flag\u001B[1;34m(params, scene_path)\u001B[0m\n\u001B[0;32m     91\u001B[0m input_path \u001B[38;5;241m=\u001B[39m os\u001B[38;5;241m.\u001B[39mpath\u001B[38;5;241m.\u001B[39mjoin(params[\u001B[38;5;124m'\u001B[39m\u001B[38;5;124moutput_dir_flags\u001B[39m\u001B[38;5;124m'\u001B[39m], os\u001B[38;5;241m.\u001B[39mpath\u001B[38;5;241m.\u001B[39mbasename(scene_path))\n\u001B[0;32m     93\u001B[0m masks \u001B[38;5;241m=\u001B[39m process_masks(input_path)\n\u001B[1;32m---> 94\u001B[0m qa_band \u001B[38;5;241m=\u001B[39m \u001B[43mcreate_qa_bitmask\u001B[49m\u001B[43m(\u001B[49m\u001B[43mmasks\u001B[49m\u001B[43m[\u001B[49m\u001B[38;5;124;43m\"\u001B[39;49m\u001B[38;5;124;43mwater\u001B[39;49m\u001B[38;5;124;43m\"\u001B[39;49m\u001B[43m]\u001B[49m\u001B[43m,\u001B[49m\u001B[43m \u001B[49m\u001B[43mmasks\u001B[49m\u001B[43m[\u001B[49m\u001B[38;5;124;43m\"\u001B[39;49m\u001B[38;5;124;43mcloud\u001B[39;49m\u001B[38;5;124;43m\"\u001B[39;49m\u001B[43m]\u001B[49m\u001B[43m,\u001B[49m\u001B[43m \u001B[49m\u001B[43mmasks\u001B[49m\u001B[43m[\u001B[49m\u001B[38;5;124;43m\"\u001B[39;49m\u001B[38;5;124;43mshadow\u001B[39;49m\u001B[38;5;124;43m\"\u001B[39;49m\u001B[43m]\u001B[49m\u001B[43m,\u001B[49m\u001B[43m \u001B[49m\u001B[43mmasks\u001B[49m\u001B[43m[\u001B[49m\u001B[38;5;124;43m\"\u001B[39;49m\u001B[38;5;124;43mglint\u001B[39;49m\u001B[38;5;124;43m\"\u001B[39;49m\u001B[43m]\u001B[49m\u001B[43m,\u001B[49m\u001B[43m \u001B[49m\u001B[43mmasks\u001B[49m\u001B[43m[\u001B[49m\u001B[38;5;124;43m\"\u001B[39;49m\u001B[38;5;124;43mblue_negative\u001B[39;49m\u001B[38;5;124;43m\"\u001B[39;49m\u001B[43m]\u001B[49m\u001B[43m,\u001B[49m\u001B[43m \u001B[49m\u001B[43mmasks\u001B[49m\u001B[43m[\u001B[49m\u001B[38;5;124;43m\"\u001B[39;49m\u001B[38;5;124;43mgreen_negative\u001B[39;49m\u001B[38;5;124;43m\"\u001B[39;49m\u001B[43m]\u001B[49m\u001B[43m,\u001B[49m\u001B[43m \u001B[49m\u001B[43mmasks\u001B[49m\u001B[43m[\u001B[49m\u001B[38;5;124;43m\"\u001B[39;49m\u001B[38;5;124;43mred_negative\u001B[39;49m\u001B[38;5;124;43m\"\u001B[39;49m\u001B[43m]\u001B[49m\u001B[43m,\u001B[49m\u001B[43m \u001B[49m\u001B[43mmasks\u001B[49m\u001B[43m[\u001B[49m\u001B[38;5;124;43m\"\u001B[39;49m\u001B[38;5;124;43mnir_negative\u001B[39;49m\u001B[38;5;124;43m\"\u001B[39;49m\u001B[43m]\u001B[49m\u001B[43m,\u001B[49m\u001B[43m \u001B[49m\u001B[43mmasks\u001B[49m\u001B[43m[\u001B[49m\u001B[38;5;124;43m\"\u001B[39;49m\u001B[38;5;124;43mswir_negative\u001B[39;49m\u001B[38;5;124;43m\"\u001B[39;49m\u001B[43m]\u001B[49m\u001B[43m)\u001B[49m\n\u001B[0;32m     96\u001B[0m \u001B[38;5;28;01mreturn\u001B[39;00m qa_band\n",
      "File \u001B[1;32m~\\Documents\\Python Scripts\\hls_water\\src\\satwater\\qa_flag_band\\qa_flag_band.py:72\u001B[0m, in \u001B[0;36mcreate_qa_bitmask\u001B[1;34m(water, cloud, shadow, glint_neg, neg_blue, neg_green, neg_red, neg_nir, neg_swir)\u001B[0m\n\u001B[0;32m     69\u001B[0m \u001B[38;5;28;01mdef\u001B[39;00m \u001B[38;5;21mcreate_qa_bitmask\u001B[39m(water, cloud, shadow, glint_neg, neg_blue, neg_green, neg_red, neg_nir, neg_swir):\n\u001B[0;32m     70\u001B[0m \n\u001B[0;32m     71\u001B[0m     \u001B[38;5;66;03m# Encode cloud and shadow together (00 = clear, 01 = shadow, 10 = cloud, 11 = cloud + shadow)\u001B[39;00m\n\u001B[1;32m---> 72\u001B[0m     cloud_shadow \u001B[38;5;241m=\u001B[39m (\u001B[43mcloud\u001B[49m\u001B[38;5;241;43m.\u001B[39;49m\u001B[43mastype\u001B[49m(\u001B[38;5;28mint\u001B[39m) \u001B[38;5;241m<<\u001B[39m \u001B[38;5;241m1\u001B[39m) \u001B[38;5;241m|\u001B[39m (shadow\u001B[38;5;241m.\u001B[39mastype(\u001B[38;5;28mint\u001B[39m))\n\u001B[0;32m     74\u001B[0m     \u001B[38;5;66;03m# Construct the QA band with the new flags\u001B[39;00m\n\u001B[0;32m     75\u001B[0m     qa_band \u001B[38;5;241m=\u001B[39m (\n\u001B[0;32m     76\u001B[0m             (water\u001B[38;5;241m.\u001B[39mastype(\u001B[38;5;28mint\u001B[39m) \u001B[38;5;241m<<\u001B[39m \u001B[38;5;241m0\u001B[39m) \u001B[38;5;241m|\u001B[39m  \u001B[38;5;66;03m# Bit 0: Water\u001B[39;00m\n\u001B[0;32m     77\u001B[0m             (cloud_shadow \u001B[38;5;241m<<\u001B[39m \u001B[38;5;241m1\u001B[39m) \u001B[38;5;241m|\u001B[39m  \u001B[38;5;66;03m# Bits 1-2: Cloud/Shadow Combined\u001B[39;00m\n\u001B[1;32m   (...)\u001B[0m\n\u001B[0;32m     83\u001B[0m             (neg_swir\u001B[38;5;241m.\u001B[39mastype(\u001B[38;5;28mint\u001B[39m) \u001B[38;5;241m<<\u001B[39m \u001B[38;5;241m8\u001B[39m)  \u001B[38;5;66;03m# Bit 8: Negative SWIR\u001B[39;00m\n\u001B[0;32m     84\u001B[0m     )\n",
      "\u001B[1;31mAttributeError\u001B[0m: 'NoneType' object has no attribute 'astype'"
     ]
    }
   ],
   "source": [
    "import os\n",
    "from src.run_aquavis import run_satwater\n",
    "\n",
    "tiles = ['21HVB']\n",
    "\n",
    "select_sat = 'landsat'\n",
    "period_ini = '20230204'\n",
    "period_end = '20230204'\n",
    "    \n",
    "for tile in tiles:\n",
    "    output_dir = rf'Z:\\guser\\tml\\mypapers\\HLS_package_paper\\package_validation\\landsat\\{tile}'\n",
    "    \n",
    "    if not os.path.exists(output_dir): os.makedirs\n",
    "    run_satwater(select_sat, tile, period_ini, period_end, output_dir, True, \"GCER\", False, \"rho\")"
   ],
   "metadata": {
    "collapsed": false,
    "ExecuteTime": {
     "end_time": "2025-03-27T15:09:18.844048700Z",
     "start_time": "2025-03-27T14:53:42.419770600Z"
    }
   },
   "id": "646607545a55bae0"
  },
  {
   "cell_type": "code",
   "execution_count": null,
   "outputs": [],
   "source": [],
   "metadata": {
    "collapsed": false
   },
   "id": "5dd35bed399eda0b"
  }
 ],
 "metadata": {
  "kernelspec": {
   "display_name": "Python 3",
   "language": "python",
   "name": "python3"
  },
  "language_info": {
   "codemirror_mode": {
    "name": "ipython",
    "version": 2
   },
   "file_extension": ".py",
   "mimetype": "text/x-python",
   "name": "python",
   "nbconvert_exporter": "python",
   "pygments_lexer": "ipython2",
   "version": "2.7.6"
  }
 },
 "nbformat": 4,
 "nbformat_minor": 5
}
