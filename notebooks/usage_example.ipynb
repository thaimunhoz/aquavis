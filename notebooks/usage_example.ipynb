{
 "cells": [
  {
   "cell_type": "code",
   "execution_count": null,
   "outputs": [
    {
     "name": "stderr",
     "output_type": "stream",
     "text": [
      "C:\\Users\\tml411\\Documents\\Python Scripts\\hls_water\\src\\satwater\\aquavis_product_generator\\generate_aquavis.py:108: SyntaxWarning: invalid escape sequence '\\*'\n",
      "  scene_all_bands = glob.glob(f\"{scene_path}\\**.tif\")\n",
      "2025-03-20 17:58:44,710 - INFO - Output directory already exists: Z:\\guser\\tml\\mypapers\\HLS_package_paper\\package_validation\\sentinel\\21HVB\n"
     ]
    },
    {
     "name": "stdout",
     "output_type": "stream",
     "text": [
      "S2A_MSIL1C_20230103T134701_N0509_R024_T21HVB_20230103T170831.SAFE\n"
     ]
    },
    {
     "name": "stderr",
     "output_type": "stream",
     "text": [
      "C:\\Users\\tml411\\Documents\\Python Scripts\\hls_water\\src\\satwater\\atmcor\\atmcor_water\\toolbox.py:205: UserWarning: Geometry is in a geographic CRS. Results from 'area' are likely incorrect. Use 'GeoSeries.to_crs()' to re-project geometries to a projected CRS before this operation.\n",
      "\n",
      "  gdf_tile['area'] = gdf_tile['geometry'].area\n"
     ]
    },
    {
     "name": "stdout",
     "output_type": "stream",
     "text": [
      "Z:\\guser\\tml\\mypapers\\HLS_package_paper\\package_validation\\sentinel\\21HVB\\atmcor\\S2A_MSIL1C_20230103T134701_N0509_R024_T21HVB_20230103T170831/S2A_MSIL1C_20230103T134701_N0509_R024_T21HVB_20230103T170831.SAFE/tempdir/T21HVB_20230103T134701_B01.tif\n",
      "Exported raster saved to Z:\\guser\\tml\\mypapers\\HLS_package_paper\\package_validation\\sentinel\\21HVB\\atmcor\\S2A_MSIL1C_20230103T134701_N0509_R024_T21HVB_20230103T170831/S2A_MSIL1C_20230103T134701_N0509_R024_T21HVB_20230103T170831.SAFE/T21HVB_20230103T134701_B01.tif\n",
      "Z:\\guser\\tml\\mypapers\\HLS_package_paper\\package_validation\\sentinel\\21HVB\\atmcor\\S2A_MSIL1C_20230103T134701_N0509_R024_T21HVB_20230103T170831/S2A_MSIL1C_20230103T134701_N0509_R024_T21HVB_20230103T170831.SAFE/tempdir/T21HVB_20230103T134701_B02.tif\n",
      "Exported raster saved to Z:\\guser\\tml\\mypapers\\HLS_package_paper\\package_validation\\sentinel\\21HVB\\atmcor\\S2A_MSIL1C_20230103T134701_N0509_R024_T21HVB_20230103T170831/S2A_MSIL1C_20230103T134701_N0509_R024_T21HVB_20230103T170831.SAFE/T21HVB_20230103T134701_B02.tif\n",
      "Z:\\guser\\tml\\mypapers\\HLS_package_paper\\package_validation\\sentinel\\21HVB\\atmcor\\S2A_MSIL1C_20230103T134701_N0509_R024_T21HVB_20230103T170831/S2A_MSIL1C_20230103T134701_N0509_R024_T21HVB_20230103T170831.SAFE/tempdir/T21HVB_20230103T134701_B03.tif\n",
      "Exported raster saved to Z:\\guser\\tml\\mypapers\\HLS_package_paper\\package_validation\\sentinel\\21HVB\\atmcor\\S2A_MSIL1C_20230103T134701_N0509_R024_T21HVB_20230103T170831/S2A_MSIL1C_20230103T134701_N0509_R024_T21HVB_20230103T170831.SAFE/T21HVB_20230103T134701_B03.tif\n",
      "Z:\\guser\\tml\\mypapers\\HLS_package_paper\\package_validation\\sentinel\\21HVB\\atmcor\\S2A_MSIL1C_20230103T134701_N0509_R024_T21HVB_20230103T170831/S2A_MSIL1C_20230103T134701_N0509_R024_T21HVB_20230103T170831.SAFE/tempdir/T21HVB_20230103T134701_B04.tif\n",
      "Exported raster saved to Z:\\guser\\tml\\mypapers\\HLS_package_paper\\package_validation\\sentinel\\21HVB\\atmcor\\S2A_MSIL1C_20230103T134701_N0509_R024_T21HVB_20230103T170831/S2A_MSIL1C_20230103T134701_N0509_R024_T21HVB_20230103T170831.SAFE/T21HVB_20230103T134701_B04.tif\n",
      "Z:\\guser\\tml\\mypapers\\HLS_package_paper\\package_validation\\sentinel\\21HVB\\atmcor\\S2A_MSIL1C_20230103T134701_N0509_R024_T21HVB_20230103T170831/S2A_MSIL1C_20230103T134701_N0509_R024_T21HVB_20230103T170831.SAFE/tempdir/T21HVB_20230103T134701_B05.tif\n",
      "Exported raster saved to Z:\\guser\\tml\\mypapers\\HLS_package_paper\\package_validation\\sentinel\\21HVB\\atmcor\\S2A_MSIL1C_20230103T134701_N0509_R024_T21HVB_20230103T170831/S2A_MSIL1C_20230103T134701_N0509_R024_T21HVB_20230103T170831.SAFE/T21HVB_20230103T134701_B05.tif\n",
      "Z:\\guser\\tml\\mypapers\\HLS_package_paper\\package_validation\\sentinel\\21HVB\\atmcor\\S2A_MSIL1C_20230103T134701_N0509_R024_T21HVB_20230103T170831/S2A_MSIL1C_20230103T134701_N0509_R024_T21HVB_20230103T170831.SAFE/tempdir/T21HVB_20230103T134701_B06.tif\n",
      "Exported raster saved to Z:\\guser\\tml\\mypapers\\HLS_package_paper\\package_validation\\sentinel\\21HVB\\atmcor\\S2A_MSIL1C_20230103T134701_N0509_R024_T21HVB_20230103T170831/S2A_MSIL1C_20230103T134701_N0509_R024_T21HVB_20230103T170831.SAFE/T21HVB_20230103T134701_B06.tif\n",
      "Z:\\guser\\tml\\mypapers\\HLS_package_paper\\package_validation\\sentinel\\21HVB\\atmcor\\S2A_MSIL1C_20230103T134701_N0509_R024_T21HVB_20230103T170831/S2A_MSIL1C_20230103T134701_N0509_R024_T21HVB_20230103T170831.SAFE/tempdir/T21HVB_20230103T134701_B07.tif\n",
      "Exported raster saved to Z:\\guser\\tml\\mypapers\\HLS_package_paper\\package_validation\\sentinel\\21HVB\\atmcor\\S2A_MSIL1C_20230103T134701_N0509_R024_T21HVB_20230103T170831/S2A_MSIL1C_20230103T134701_N0509_R024_T21HVB_20230103T170831.SAFE/T21HVB_20230103T134701_B07.tif\n",
      "Z:\\guser\\tml\\mypapers\\HLS_package_paper\\package_validation\\sentinel\\21HVB\\atmcor\\S2A_MSIL1C_20230103T134701_N0509_R024_T21HVB_20230103T170831/S2A_MSIL1C_20230103T134701_N0509_R024_T21HVB_20230103T170831.SAFE/tempdir/T21HVB_20230103T134701_B08.tif\n",
      "Exported raster saved to Z:\\guser\\tml\\mypapers\\HLS_package_paper\\package_validation\\sentinel\\21HVB\\atmcor\\S2A_MSIL1C_20230103T134701_N0509_R024_T21HVB_20230103T170831/S2A_MSIL1C_20230103T134701_N0509_R024_T21HVB_20230103T170831.SAFE/T21HVB_20230103T134701_B08.tif\n",
      "Z:\\guser\\tml\\mypapers\\HLS_package_paper\\package_validation\\sentinel\\21HVB\\atmcor\\S2A_MSIL1C_20230103T134701_N0509_R024_T21HVB_20230103T170831/S2A_MSIL1C_20230103T134701_N0509_R024_T21HVB_20230103T170831.SAFE/tempdir/T21HVB_20230103T134701_B8A.tif\n",
      "Exported raster saved to Z:\\guser\\tml\\mypapers\\HLS_package_paper\\package_validation\\sentinel\\21HVB\\atmcor\\S2A_MSIL1C_20230103T134701_N0509_R024_T21HVB_20230103T170831/S2A_MSIL1C_20230103T134701_N0509_R024_T21HVB_20230103T170831.SAFE/T21HVB_20230103T134701_B8A.tif\n",
      "Z:\\guser\\tml\\mypapers\\HLS_package_paper\\package_validation\\sentinel\\21HVB\\atmcor\\S2A_MSIL1C_20230103T134701_N0509_R024_T21HVB_20230103T170831/S2A_MSIL1C_20230103T134701_N0509_R024_T21HVB_20230103T170831.SAFE/tempdir/T21HVB_20230103T134701_B09.tif\n",
      "Exported raster saved to Z:\\guser\\tml\\mypapers\\HLS_package_paper\\package_validation\\sentinel\\21HVB\\atmcor\\S2A_MSIL1C_20230103T134701_N0509_R024_T21HVB_20230103T170831/S2A_MSIL1C_20230103T134701_N0509_R024_T21HVB_20230103T170831.SAFE/T21HVB_20230103T134701_B09.tif\n",
      "Z:\\guser\\tml\\mypapers\\HLS_package_paper\\package_validation\\sentinel\\21HVB\\atmcor\\S2A_MSIL1C_20230103T134701_N0509_R024_T21HVB_20230103T170831/S2A_MSIL1C_20230103T134701_N0509_R024_T21HVB_20230103T170831.SAFE/tempdir/T21HVB_20230103T134701_B10.tif\n",
      "Exported raster saved to Z:\\guser\\tml\\mypapers\\HLS_package_paper\\package_validation\\sentinel\\21HVB\\atmcor\\S2A_MSIL1C_20230103T134701_N0509_R024_T21HVB_20230103T170831/S2A_MSIL1C_20230103T134701_N0509_R024_T21HVB_20230103T170831.SAFE/T21HVB_20230103T134701_B10.tif\n",
      "Z:\\guser\\tml\\mypapers\\HLS_package_paper\\package_validation\\sentinel\\21HVB\\atmcor\\S2A_MSIL1C_20230103T134701_N0509_R024_T21HVB_20230103T170831/S2A_MSIL1C_20230103T134701_N0509_R024_T21HVB_20230103T170831.SAFE/tempdir/T21HVB_20230103T134701_B11.tif\n",
      "Exported raster saved to Z:\\guser\\tml\\mypapers\\HLS_package_paper\\package_validation\\sentinel\\21HVB\\atmcor\\S2A_MSIL1C_20230103T134701_N0509_R024_T21HVB_20230103T170831/S2A_MSIL1C_20230103T134701_N0509_R024_T21HVB_20230103T170831.SAFE/T21HVB_20230103T134701_B11.tif\n",
      "Z:\\guser\\tml\\mypapers\\HLS_package_paper\\package_validation\\sentinel\\21HVB\\atmcor\\S2A_MSIL1C_20230103T134701_N0509_R024_T21HVB_20230103T170831/S2A_MSIL1C_20230103T134701_N0509_R024_T21HVB_20230103T170831.SAFE/tempdir/T21HVB_20230103T134701_B12.tif\n",
      "Exported raster saved to Z:\\guser\\tml\\mypapers\\HLS_package_paper\\package_validation\\sentinel\\21HVB\\atmcor\\S2A_MSIL1C_20230103T134701_N0509_R024_T21HVB_20230103T170831/S2A_MSIL1C_20230103T134701_N0509_R024_T21HVB_20230103T170831.SAFE/T21HVB_20230103T134701_B12.tif\n",
      "GCER Atmos correction applied.\n",
      "Cloud mask applied.\n",
      "S2B_MSIL1C_20231221T133839_N0510_R124_T21HVB_20231221T184008.SAFE\n"
     ]
    },
    {
     "name": "stderr",
     "output_type": "stream",
     "text": [
      "C:\\Users\\tml411\\Documents\\Python Scripts\\hls_water\\src\\satwater\\atmcor\\atmcor_water\\toolbox.py:205: UserWarning: Geometry is in a geographic CRS. Results from 'area' are likely incorrect. Use 'GeoSeries.to_crs()' to re-project geometries to a projected CRS before this operation.\n",
      "\n",
      "  gdf_tile['area'] = gdf_tile['geometry'].area\n"
     ]
    }
   ],
   "source": [
    "import os\n",
    "from src.run_aquavis import run_satwater\n",
    "\n",
    "tiles = ['21HVB']\n",
    "\n",
    "select_sat = 'sentinel'\n",
    "period_ini = '20230101'\n",
    "period_end = '20231230'\n",
    "    \n",
    "for tile in tiles:\n",
    "    output_dir = rf'Z:\\guser\\tml\\mypapers\\HLS_package_paper\\package_validation\\sentinel\\{tile}'\n",
    "    \n",
    "    if not os.path.exists(output_dir): os.makedirs\n",
    "    run_satwater(select_sat, tile, period_ini, period_end, output_dir, True, \"GCER\", False, \"rho\")"
   ],
   "metadata": {
    "collapsed": false,
    "is_executing": true,
    "ExecuteTime": {
     "start_time": "2025-03-20T22:58:40.190414100Z"
    }
   },
   "id": "646607545a55bae0"
  },
  {
   "cell_type": "code",
   "execution_count": null,
   "outputs": [],
   "source": [],
   "metadata": {
    "collapsed": false
   },
   "id": "eb1791bfe7fd10a4"
  }
 ],
 "metadata": {
  "kernelspec": {
   "display_name": "Python 3",
   "language": "python",
   "name": "python3"
  },
  "language_info": {
   "codemirror_mode": {
    "name": "ipython",
    "version": 2
   },
   "file_extension": ".py",
   "mimetype": "text/x-python",
   "name": "python",
   "nbconvert_exporter": "python",
   "pygments_lexer": "ipython2",
   "version": "2.7.6"
  }
 },
 "nbformat": 4,
 "nbformat_minor": 5
}
