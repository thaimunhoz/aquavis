{
 "cells": [
  {
   "cell_type": "code",
   "execution_count": null,
   "outputs": [
    {
     "name": "stdout",
     "output_type": "stream",
     "text": [
      "Processing Landsat scene: Z:\\guser\\tml\\mypapers\\HLS_package_paper\\HLS_DATASET_new\\landsat\\10SEG\\atmcor\\landsat\\10SEG\\LC08_L1GT_043034_20230115_20230131_02_T2\n"
     ]
    }
   ],
   "source": [
    "import os\n",
    "from src.run_aquavis import run_satwater\n",
    "\n",
    "tiles = ['10SEG']\n",
    "\n",
    "select_sat = 'landsat'\n",
    "period_ini = '20230106'\n",
    "period_end = '20230108'\n",
    "    \n",
    "for tile in tiles:\n",
    "    output_dir = rf'Z:\\guser\\tml\\mypapers\\HLS_package_paper\\HLS_DATASET_new\\landsat\\{tile}'\n",
    "    \n",
    "    if not os.path.exists(output_dir): os.makedirs\n",
    "    run_satwater(select_sat, tile, period_ini, period_end, output_dir, True, \"GCER\", False, \"rho\")"
   ],
   "metadata": {
    "collapsed": false,
    "is_executing": true,
    "ExecuteTime": {
     "start_time": "2025-03-04T23:08:34.014498600Z"
    }
   },
   "id": "646607545a55bae0"
  }
 ],
 "metadata": {
  "kernelspec": {
   "display_name": "Python 3",
   "language": "python",
   "name": "python3"
  },
  "language_info": {
   "codemirror_mode": {
    "name": "ipython",
    "version": 2
   },
   "file_extension": ".py",
   "mimetype": "text/x-python",
   "name": "python",
   "nbconvert_exporter": "python",
   "pygments_lexer": "ipython2",
   "version": "2.7.6"
  }
 },
 "nbformat": 4,
 "nbformat_minor": 5
}
