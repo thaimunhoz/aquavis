{
 "cells": [
  {
   "cell_type": "code",
   "execution_count": null,
   "outputs": [],
   "source": [
    "import os\n",
    "from src.aquavis.core import pipeline\n",
    "\n",
    "tiles = ['10SEH']\n",
    "\n",
    "select_sat = 'sentinel'\n",
    "period_ini = '20230920'\n",
    "period_end = '20230925'\n",
    "    \n",
    "for tile in tiles:\n",
    "    output_dir = rf'Z:\\guser\\tml\\mypapers\\HLS_package_paper\\package_validation\\sentinel\\{tile}'\n",
    "    \n",
    "    if not os.path.exists(output_dir): os.makedirs(output_dir)\n",
    "    pipeline.run_aquavis(select_sat, tile, period_ini, period_end, output_dir, \"rho\")"
   ],
   "metadata": {
    "collapsed": false,
    "ExecuteTime": {
     "start_time": "2025-04-24T13:00:31.665639400Z"
    }
   },
   "id": "646607545a55bae0"
  },
  {
   "cell_type": "code",
   "execution_count": 1,
   "outputs": [],
   "source": [],
   "metadata": {
    "collapsed": false,
    "ExecuteTime": {
     "end_time": "2025-04-23T14:17:49.028542100Z",
     "start_time": "2025-04-23T14:17:49.018342100Z"
    }
   },
   "id": "c525f6b9cd7f4cab"
  }
 ],
 "metadata": {
  "kernelspec": {
   "display_name": "Python 3",
   "language": "python",
   "name": "python3"
  },
  "language_info": {
   "codemirror_mode": {
    "name": "ipython",
    "version": 2
   },
   "file_extension": ".py",
   "mimetype": "text/x-python",
   "name": "python",
   "nbconvert_exporter": "python",
   "pygments_lexer": "ipython2",
   "version": "2.7.6"
  }
 },
 "nbformat": 4,
 "nbformat_minor": 5
}
