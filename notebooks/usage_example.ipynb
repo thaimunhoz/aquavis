{
 "cells": [
  {
   "cell_type": "code",
   "execution_count": 4,
   "outputs": [
    {
     "name": "stderr",
     "output_type": "stream",
     "text": [
      "2025-01-14 10:59:21,514 - INFO - Output directory already exists: Z:\\guser\\tml\\mypapers\\HLS_package_paper\\HLS_DATASET\\sentinel\\50KLB\n",
      "2025-01-14 11:01:43,562 - INFO - Atmospheric correction completed for tile 50KLB. Results: [None]\n",
      "2025-01-14 11:01:43,694 - INFO - Atmospheric correction completed successfully.\n",
      "2025-01-14 11:02:29,234 - INFO - Resampling completed successfully.\n"
     ]
    },
    {
     "name": "stdout",
     "output_type": "stream",
     "text": [
      "Processing results for tile 50KLB: [None, None, None, None, None, None, None, None, None, None, None, None, None, None, None, None, None, None, None, None, None, None, None, None, None, None, None, None, None, None, None, None, None, None, None, None, None, None, None, None, None, None, None, None, None, None, None, None, None, None, None, None, None, None, None, None, None, None, None, None, None, None, None, None, None, None, None, None, None]\n"
     ]
    },
    {
     "name": "stderr",
     "output_type": "stream",
     "text": [
      "2025-01-14 11:02:46,830 - INFO - HLS water image generation completed successfully.\n"
     ]
    },
    {
     "name": "stdout",
     "output_type": "stream",
     "text": [
      "[None, None, None, None]\n"
     ]
    },
    {
     "name": "stderr",
     "output_type": "stream",
     "text": [
      "2025-01-14 11:02:54,777 - INFO - Visualization and true color composition completed successfully.\n",
      "2025-01-14 11:02:54,777 - INFO - Process finished successfully.\n"
     ]
    },
    {
     "name": "stdout",
     "output_type": "stream",
     "text": [
      "[None, None, None, None]\n"
     ]
    }
   ],
   "source": [
    "import os\n",
    "from src.run_satwater import run_satwater\n",
    "\n",
    "tiles = ['50KLB']\n",
    "select_sat = 'sentinel'\n",
    "period_ini = '20231209'\n",
    "period_end = '20231211'\n",
    "\n",
    "for tile in tiles:\n",
    "    output_dir = rf'Z:\\guser\\tml\\mypapers\\HLS_package_paper\\HLS_DATASET\\sentinel\\{tile}'\n",
    "    if not os.path.exists(output_dir): os.makedirs\n",
    "    run_satwater(select_sat, tile, period_ini, period_end, output_dir)"
   ],
   "metadata": {
    "collapsed": false,
    "ExecuteTime": {
     "end_time": "2025-01-14T17:02:54.784699700Z",
     "start_time": "2025-01-14T16:59:21.508740100Z"
    }
   },
   "id": "646607545a55bae0"
  },
  {
   "cell_type": "code",
   "execution_count": null,
   "outputs": [],
   "source": [],
   "metadata": {
    "collapsed": false
   },
   "id": "5b1954d9ca320eef"
  }
 ],
 "metadata": {
  "kernelspec": {
   "display_name": "Python 3",
   "language": "python",
   "name": "python3"
  },
  "language_info": {
   "codemirror_mode": {
    "name": "ipython",
    "version": 2
   },
   "file_extension": ".py",
   "mimetype": "text/x-python",
   "name": "python",
   "nbconvert_exporter": "python",
   "pygments_lexer": "ipython2",
   "version": "2.7.6"
  }
 },
 "nbformat": 4,
 "nbformat_minor": 5
}
