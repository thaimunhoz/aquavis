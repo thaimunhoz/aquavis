{
 "cells": [
  {
   "cell_type": "code",
   "execution_count": 1,
   "outputs": [
    {
     "name": "stderr",
     "output_type": "stream",
     "text": [
      "C:\\Users\\tml411\\Documents\\Python Scripts\\hls_water\\src\\satwater\\aquavis_product_generator\\generate_aquavis.py:105: SyntaxWarning: invalid escape sequence '\\*'\n",
      "  scene_all_bands = glob.glob(f\"{scene_path}\\**.tif\")\n",
      "2025-03-14 16:06:56,494 - INFO - Output directory already exists: Z:\\guser\\tml\\mypapers\\HLS_package_paper\\package_validation\\sentinel\\35VLG\n"
     ]
    },
    {
     "name": "stdout",
     "output_type": "stream",
     "text": [
      "S2A_MSIL1C_20160503T095032_N0202_R079_T35VLG_20160503T095034.SAFE\n",
      "Z:\\guser\\tml\\mypapers\\HLS_package_paper\\package_validation\\sentinel\\35VLG\\atmcor\\sentinel\\35VLG\\S2A_MSIL1C_20160503T095032_N0202_R079_T35VLG_20160503T095034/S2A_MSIL1C_20160503T095032_N0202_R079_T35VLG_20160503T095034.SAFE/tempdir/T35VLG_20160503T095032_B01.tif\n",
      "Exported raster saved to Z:\\guser\\tml\\mypapers\\HLS_package_paper\\package_validation\\sentinel\\35VLG\\atmcor\\sentinel\\35VLG\\S2A_MSIL1C_20160503T095032_N0202_R079_T35VLG_20160503T095034/S2A_MSIL1C_20160503T095032_N0202_R079_T35VLG_20160503T095034.SAFE/tempdir2/T35VLG_20160503T095032_B01.TIF\n",
      "Z:\\guser\\tml\\mypapers\\HLS_package_paper\\package_validation\\sentinel\\35VLG\\atmcor\\sentinel\\35VLG\\S2A_MSIL1C_20160503T095032_N0202_R079_T35VLG_20160503T095034/S2A_MSIL1C_20160503T095032_N0202_R079_T35VLG_20160503T095034.SAFE/tempdir/T35VLG_20160503T095032_B10.tif\n",
      "Exported raster saved to Z:\\guser\\tml\\mypapers\\HLS_package_paper\\package_validation\\sentinel\\35VLG\\atmcor\\sentinel\\35VLG\\S2A_MSIL1C_20160503T095032_N0202_R079_T35VLG_20160503T095034/S2A_MSIL1C_20160503T095032_N0202_R079_T35VLG_20160503T095034.SAFE/tempdir2/T35VLG_20160503T095032_B10.TIF\n",
      "Z:\\guser\\tml\\mypapers\\HLS_package_paper\\package_validation\\sentinel\\35VLG\\atmcor\\sentinel\\35VLG\\S2A_MSIL1C_20160503T095032_N0202_R079_T35VLG_20160503T095034/S2A_MSIL1C_20160503T095032_N0202_R079_T35VLG_20160503T095034.SAFE/tempdir/T35VLG_20160503T095032_B11.tif\n",
      "Exported raster saved to Z:\\guser\\tml\\mypapers\\HLS_package_paper\\package_validation\\sentinel\\35VLG\\atmcor\\sentinel\\35VLG\\S2A_MSIL1C_20160503T095032_N0202_R079_T35VLG_20160503T095034/S2A_MSIL1C_20160503T095032_N0202_R079_T35VLG_20160503T095034.SAFE/tempdir2/T35VLG_20160503T095032_B11.TIF\n",
      "Z:\\guser\\tml\\mypapers\\HLS_package_paper\\package_validation\\sentinel\\35VLG\\atmcor\\sentinel\\35VLG\\S2A_MSIL1C_20160503T095032_N0202_R079_T35VLG_20160503T095034/S2A_MSIL1C_20160503T095032_N0202_R079_T35VLG_20160503T095034.SAFE/tempdir/T35VLG_20160503T095032_B12.tif\n",
      "Exported raster saved to Z:\\guser\\tml\\mypapers\\HLS_package_paper\\package_validation\\sentinel\\35VLG\\atmcor\\sentinel\\35VLG\\S2A_MSIL1C_20160503T095032_N0202_R079_T35VLG_20160503T095034/S2A_MSIL1C_20160503T095032_N0202_R079_T35VLG_20160503T095034.SAFE/tempdir2/T35VLG_20160503T095032_B12.TIF\n",
      "Z:\\guser\\tml\\mypapers\\HLS_package_paper\\package_validation\\sentinel\\35VLG\\atmcor\\sentinel\\35VLG\\S2A_MSIL1C_20160503T095032_N0202_R079_T35VLG_20160503T095034/S2A_MSIL1C_20160503T095032_N0202_R079_T35VLG_20160503T095034.SAFE/tempdir/T35VLG_20160503T095032_B02.tif\n",
      "Exported raster saved to Z:\\guser\\tml\\mypapers\\HLS_package_paper\\package_validation\\sentinel\\35VLG\\atmcor\\sentinel\\35VLG\\S2A_MSIL1C_20160503T095032_N0202_R079_T35VLG_20160503T095034/S2A_MSIL1C_20160503T095032_N0202_R079_T35VLG_20160503T095034.SAFE/tempdir2/T35VLG_20160503T095032_B02.TIF\n",
      "Z:\\guser\\tml\\mypapers\\HLS_package_paper\\package_validation\\sentinel\\35VLG\\atmcor\\sentinel\\35VLG\\S2A_MSIL1C_20160503T095032_N0202_R079_T35VLG_20160503T095034/S2A_MSIL1C_20160503T095032_N0202_R079_T35VLG_20160503T095034.SAFE/tempdir/T35VLG_20160503T095032_B03.tif\n",
      "Exported raster saved to Z:\\guser\\tml\\mypapers\\HLS_package_paper\\package_validation\\sentinel\\35VLG\\atmcor\\sentinel\\35VLG\\S2A_MSIL1C_20160503T095032_N0202_R079_T35VLG_20160503T095034/S2A_MSIL1C_20160503T095032_N0202_R079_T35VLG_20160503T095034.SAFE/tempdir2/T35VLG_20160503T095032_B03.TIF\n",
      "Z:\\guser\\tml\\mypapers\\HLS_package_paper\\package_validation\\sentinel\\35VLG\\atmcor\\sentinel\\35VLG\\S2A_MSIL1C_20160503T095032_N0202_R079_T35VLG_20160503T095034/S2A_MSIL1C_20160503T095032_N0202_R079_T35VLG_20160503T095034.SAFE/tempdir/T35VLG_20160503T095032_B04.tif\n",
      "Exported raster saved to Z:\\guser\\tml\\mypapers\\HLS_package_paper\\package_validation\\sentinel\\35VLG\\atmcor\\sentinel\\35VLG\\S2A_MSIL1C_20160503T095032_N0202_R079_T35VLG_20160503T095034/S2A_MSIL1C_20160503T095032_N0202_R079_T35VLG_20160503T095034.SAFE/tempdir2/T35VLG_20160503T095032_B04.TIF\n",
      "Z:\\guser\\tml\\mypapers\\HLS_package_paper\\package_validation\\sentinel\\35VLG\\atmcor\\sentinel\\35VLG\\S2A_MSIL1C_20160503T095032_N0202_R079_T35VLG_20160503T095034/S2A_MSIL1C_20160503T095032_N0202_R079_T35VLG_20160503T095034.SAFE/tempdir/T35VLG_20160503T095032_B05.tif\n",
      "Exported raster saved to Z:\\guser\\tml\\mypapers\\HLS_package_paper\\package_validation\\sentinel\\35VLG\\atmcor\\sentinel\\35VLG\\S2A_MSIL1C_20160503T095032_N0202_R079_T35VLG_20160503T095034/S2A_MSIL1C_20160503T095032_N0202_R079_T35VLG_20160503T095034.SAFE/tempdir2/T35VLG_20160503T095032_B05.TIF\n",
      "Z:\\guser\\tml\\mypapers\\HLS_package_paper\\package_validation\\sentinel\\35VLG\\atmcor\\sentinel\\35VLG\\S2A_MSIL1C_20160503T095032_N0202_R079_T35VLG_20160503T095034/S2A_MSIL1C_20160503T095032_N0202_R079_T35VLG_20160503T095034.SAFE/tempdir/T35VLG_20160503T095032_B06.tif\n",
      "Exported raster saved to Z:\\guser\\tml\\mypapers\\HLS_package_paper\\package_validation\\sentinel\\35VLG\\atmcor\\sentinel\\35VLG\\S2A_MSIL1C_20160503T095032_N0202_R079_T35VLG_20160503T095034/S2A_MSIL1C_20160503T095032_N0202_R079_T35VLG_20160503T095034.SAFE/tempdir2/T35VLG_20160503T095032_B06.TIF\n",
      "Z:\\guser\\tml\\mypapers\\HLS_package_paper\\package_validation\\sentinel\\35VLG\\atmcor\\sentinel\\35VLG\\S2A_MSIL1C_20160503T095032_N0202_R079_T35VLG_20160503T095034/S2A_MSIL1C_20160503T095032_N0202_R079_T35VLG_20160503T095034.SAFE/tempdir/T35VLG_20160503T095032_B07.tif\n",
      "Exported raster saved to Z:\\guser\\tml\\mypapers\\HLS_package_paper\\package_validation\\sentinel\\35VLG\\atmcor\\sentinel\\35VLG\\S2A_MSIL1C_20160503T095032_N0202_R079_T35VLG_20160503T095034/S2A_MSIL1C_20160503T095032_N0202_R079_T35VLG_20160503T095034.SAFE/tempdir2/T35VLG_20160503T095032_B07.TIF\n",
      "Z:\\guser\\tml\\mypapers\\HLS_package_paper\\package_validation\\sentinel\\35VLG\\atmcor\\sentinel\\35VLG\\S2A_MSIL1C_20160503T095032_N0202_R079_T35VLG_20160503T095034/S2A_MSIL1C_20160503T095032_N0202_R079_T35VLG_20160503T095034.SAFE/tempdir/T35VLG_20160503T095032_B08.tif\n",
      "Exported raster saved to Z:\\guser\\tml\\mypapers\\HLS_package_paper\\package_validation\\sentinel\\35VLG\\atmcor\\sentinel\\35VLG\\S2A_MSIL1C_20160503T095032_N0202_R079_T35VLG_20160503T095034/S2A_MSIL1C_20160503T095032_N0202_R079_T35VLG_20160503T095034.SAFE/tempdir2/T35VLG_20160503T095032_B08.TIF\n",
      "Z:\\guser\\tml\\mypapers\\HLS_package_paper\\package_validation\\sentinel\\35VLG\\atmcor\\sentinel\\35VLG\\S2A_MSIL1C_20160503T095032_N0202_R079_T35VLG_20160503T095034/S2A_MSIL1C_20160503T095032_N0202_R079_T35VLG_20160503T095034.SAFE/tempdir/T35VLG_20160503T095032_B8A.tif\n",
      "Exported raster saved to Z:\\guser\\tml\\mypapers\\HLS_package_paper\\package_validation\\sentinel\\35VLG\\atmcor\\sentinel\\35VLG\\S2A_MSIL1C_20160503T095032_N0202_R079_T35VLG_20160503T095034/S2A_MSIL1C_20160503T095032_N0202_R079_T35VLG_20160503T095034.SAFE/tempdir2/T35VLG_20160503T095032_B8A.TIF\n",
      "Z:\\guser\\tml\\mypapers\\HLS_package_paper\\package_validation\\sentinel\\35VLG\\atmcor\\sentinel\\35VLG\\S2A_MSIL1C_20160503T095032_N0202_R079_T35VLG_20160503T095034/S2A_MSIL1C_20160503T095032_N0202_R079_T35VLG_20160503T095034.SAFE/tempdir/T35VLG_20160503T095032_B09.tif\n",
      "Exported raster saved to Z:\\guser\\tml\\mypapers\\HLS_package_paper\\package_validation\\sentinel\\35VLG\\atmcor\\sentinel\\35VLG\\S2A_MSIL1C_20160503T095032_N0202_R079_T35VLG_20160503T095034/S2A_MSIL1C_20160503T095032_N0202_R079_T35VLG_20160503T095034.SAFE/tempdir2/T35VLG_20160503T095032_B09.TIF\n",
      "GCER Atmos correction applied.\n",
      "Cloud mask applied.\n",
      "Atmospheric correction completed successfully.\n"
     ]
    },
    {
     "ename": "KeyboardInterrupt",
     "evalue": "",
     "output_type": "error",
     "traceback": [
      "\u001B[31m---------------------------------------------------------------------------\u001B[39m",
      "\u001B[31mKeyboardInterrupt\u001B[39m                         Traceback (most recent call last)",
      "\u001B[36mCell\u001B[39m\u001B[36m \u001B[39m\u001B[32mIn[1]\u001B[39m\u001B[32m, line 14\u001B[39m\n\u001B[32m     11\u001B[39m output_dir = \u001B[33mrf\u001B[39m\u001B[33m'\u001B[39m\u001B[33mZ:\u001B[39m\u001B[33m\\\u001B[39m\u001B[33mguser\u001B[39m\u001B[33m\\\u001B[39m\u001B[33mtml\u001B[39m\u001B[33m\\\u001B[39m\u001B[33mmypapers\u001B[39m\u001B[33m\\\u001B[39m\u001B[33mHLS_package_paper\u001B[39m\u001B[33m\\\u001B[39m\u001B[33mpackage_validation\u001B[39m\u001B[33m\\\u001B[39m\u001B[33msentinel\u001B[39m\u001B[33m\\\u001B[39m\u001B[38;5;132;01m{\u001B[39;00mtile\u001B[38;5;132;01m}\u001B[39;00m\u001B[33m'\u001B[39m\n\u001B[32m     13\u001B[39m \u001B[38;5;28;01mif\u001B[39;00m \u001B[38;5;129;01mnot\u001B[39;00m os.path.exists(output_dir): os.makedirs\n\u001B[32m---> \u001B[39m\u001B[32m14\u001B[39m \u001B[43mrun_satwater\u001B[49m\u001B[43m(\u001B[49m\u001B[43mselect_sat\u001B[49m\u001B[43m,\u001B[49m\u001B[43m \u001B[49m\u001B[43mtile\u001B[49m\u001B[43m,\u001B[49m\u001B[43m \u001B[49m\u001B[43mperiod_ini\u001B[49m\u001B[43m,\u001B[49m\u001B[43m \u001B[49m\u001B[43mperiod_end\u001B[49m\u001B[43m,\u001B[49m\u001B[43m \u001B[49m\u001B[43moutput_dir\u001B[49m\u001B[43m,\u001B[49m\u001B[43m \u001B[49m\u001B[38;5;28;43;01mTrue\u001B[39;49;00m\u001B[43m,\u001B[49m\u001B[43m \u001B[49m\u001B[33;43m\"\u001B[39;49m\u001B[33;43mGCER\u001B[39;49m\u001B[33;43m\"\u001B[39;49m\u001B[43m,\u001B[49m\u001B[43m \u001B[49m\u001B[38;5;28;43;01mFalse\u001B[39;49;00m\u001B[43m,\u001B[49m\u001B[43m \u001B[49m\u001B[33;43m\"\u001B[39;49m\u001B[33;43mrho\u001B[39;49m\u001B[33;43m\"\u001B[39;49m\u001B[43m)\u001B[49m\n",
      "\u001B[36mFile \u001B[39m\u001B[32m~\\Documents\\Python Scripts\\hls_water\\src\\run_aquavis.py:74\u001B[39m, in \u001B[36mrun_satwater\u001B[39m\u001B[34m(select_sat, tile, period_ini, period_end, output_dir, keep_atmcor, input_toa, brdf_corr, output_type)\u001B[39m\n\u001B[32m     71\u001B[39m \u001B[38;5;28;01melse\u001B[39;00m:\n\u001B[32m     72\u001B[39m     SatWater_i.run_atmcor() \u001B[38;5;66;03m# 1. Atmospheric correction using local TOA source\u001B[39;00m\n\u001B[32m---> \u001B[39m\u001B[32m74\u001B[39m \u001B[38;5;28;01mif\u001B[39;00m \u001B[43mselect_sat\u001B[49m == \u001B[33m\"\u001B[39m\u001B[33mlandsat\u001B[39m\u001B[33m\"\u001B[39m:\n\u001B[32m     75\u001B[39m     SatWater_i.run_tiling() \u001B[38;5;66;03m# 2. Tiling for Landsat\u001B[39;00m\n\u001B[32m     77\u001B[39m \u001B[38;5;28;01melif\u001B[39;00m select_sat == \u001B[33m\"\u001B[39m\u001B[33msentinel\u001B[39m\u001B[33m\"\u001B[39m:\n",
      "\u001B[36mFile \u001B[39m\u001B[32mC:\\Program Files (x86)\\JetBrains\\PyCharm 2023.2.5\\plugins\\python\\helpers\\pydev\\_pydevd_bundle\\pydevd_frame.py:747\u001B[39m, in \u001B[36mPyDBFrame.trace_dispatch\u001B[39m\u001B[34m(self, frame, event, arg)\u001B[39m\n\u001B[32m    745\u001B[39m \u001B[38;5;66;03m# if thread has a suspend flag, we suspend with a busy wait\u001B[39;00m\n\u001B[32m    746\u001B[39m \u001B[38;5;28;01mif\u001B[39;00m info.pydev_state == STATE_SUSPEND:\n\u001B[32m--> \u001B[39m\u001B[32m747\u001B[39m     \u001B[38;5;28;43mself\u001B[39;49m\u001B[43m.\u001B[49m\u001B[43mdo_wait_suspend\u001B[49m\u001B[43m(\u001B[49m\u001B[43mthread\u001B[49m\u001B[43m,\u001B[49m\u001B[43m \u001B[49m\u001B[43mframe\u001B[49m\u001B[43m,\u001B[49m\u001B[43m \u001B[49m\u001B[43mevent\u001B[49m\u001B[43m,\u001B[49m\u001B[43m \u001B[49m\u001B[43marg\u001B[49m\u001B[43m)\u001B[49m\n\u001B[32m    748\u001B[39m     \u001B[38;5;66;03m# No need to reset frame.f_trace to keep the same trace function.\u001B[39;00m\n\u001B[32m    749\u001B[39m     \u001B[38;5;28;01mreturn\u001B[39;00m \u001B[38;5;28mself\u001B[39m.trace_dispatch\n",
      "\u001B[36mFile \u001B[39m\u001B[32mC:\\Program Files (x86)\\JetBrains\\PyCharm 2023.2.5\\plugins\\python\\helpers\\pydev\\_pydevd_bundle\\pydevd_frame.py:144\u001B[39m, in \u001B[36mPyDBFrame.do_wait_suspend\u001B[39m\u001B[34m(self, *args, **kwargs)\u001B[39m\n\u001B[32m    143\u001B[39m \u001B[38;5;28;01mdef\u001B[39;00m\u001B[38;5;250m \u001B[39m\u001B[34mdo_wait_suspend\u001B[39m(\u001B[38;5;28mself\u001B[39m, *args, **kwargs):\n\u001B[32m--> \u001B[39m\u001B[32m144\u001B[39m     \u001B[38;5;28;43mself\u001B[39;49m\u001B[43m.\u001B[49m\u001B[43m_args\u001B[49m\u001B[43m[\u001B[49m\u001B[32;43m0\u001B[39;49m\u001B[43m]\u001B[49m\u001B[43m.\u001B[49m\u001B[43mdo_wait_suspend\u001B[49m\u001B[43m(\u001B[49m\u001B[43m*\u001B[49m\u001B[43margs\u001B[49m\u001B[43m,\u001B[49m\u001B[43m \u001B[49m\u001B[43m*\u001B[49m\u001B[43m*\u001B[49m\u001B[43mkwargs\u001B[49m\u001B[43m)\u001B[49m\n",
      "\u001B[36mFile \u001B[39m\u001B[32mC:\\Program Files (x86)\\JetBrains\\PyCharm 2023.2.5\\plugins\\python\\helpers\\pydev\\pydevd.py:1160\u001B[39m, in \u001B[36mPyDB.do_wait_suspend\u001B[39m\u001B[34m(self, thread, frame, event, arg, send_suspend_message, is_unhandled_exception)\u001B[39m\n\u001B[32m   1157\u001B[39m         from_this_thread.append(frame_id)\n\u001B[32m   1159\u001B[39m \u001B[38;5;28;01mwith\u001B[39;00m \u001B[38;5;28mself\u001B[39m._threads_suspended_single_notification.notify_thread_suspended(thread_id, stop_reason):\n\u001B[32m-> \u001B[39m\u001B[32m1160\u001B[39m     \u001B[38;5;28;43mself\u001B[39;49m\u001B[43m.\u001B[49m\u001B[43m_do_wait_suspend\u001B[49m\u001B[43m(\u001B[49m\u001B[43mthread\u001B[49m\u001B[43m,\u001B[49m\u001B[43m \u001B[49m\u001B[43mframe\u001B[49m\u001B[43m,\u001B[49m\u001B[43m \u001B[49m\u001B[43mevent\u001B[49m\u001B[43m,\u001B[49m\u001B[43m \u001B[49m\u001B[43marg\u001B[49m\u001B[43m,\u001B[49m\u001B[43m \u001B[49m\u001B[43msuspend_type\u001B[49m\u001B[43m,\u001B[49m\u001B[43m \u001B[49m\u001B[43mfrom_this_thread\u001B[49m\u001B[43m)\u001B[49m\n",
      "\u001B[36mFile \u001B[39m\u001B[32mC:\\Program Files (x86)\\JetBrains\\PyCharm 2023.2.5\\plugins\\python\\helpers\\pydev\\pydevd.py:1175\u001B[39m, in \u001B[36mPyDB._do_wait_suspend\u001B[39m\u001B[34m(self, thread, frame, event, arg, suspend_type, from_this_thread)\u001B[39m\n\u001B[32m   1172\u001B[39m             \u001B[38;5;28mself\u001B[39m._call_mpl_hook()\n\u001B[32m   1174\u001B[39m         \u001B[38;5;28mself\u001B[39m.process_internal_commands()\n\u001B[32m-> \u001B[39m\u001B[32m1175\u001B[39m         \u001B[43mtime\u001B[49m\u001B[43m.\u001B[49m\u001B[43msleep\u001B[49m\u001B[43m(\u001B[49m\u001B[32;43m0.01\u001B[39;49m\u001B[43m)\u001B[49m\n\u001B[32m   1177\u001B[39m \u001B[38;5;28mself\u001B[39m.cancel_async_evaluation(get_current_thread_id(thread), \u001B[38;5;28mstr\u001B[39m(\u001B[38;5;28mid\u001B[39m(frame)))\n\u001B[32m   1179\u001B[39m \u001B[38;5;66;03m# process any stepping instructions\u001B[39;00m\n",
      "\u001B[31mKeyboardInterrupt\u001B[39m: "
     ]
    }
   ],
   "source": [
    "import os\n",
    "from src.run_aquavis import run_satwater\n",
    "\n",
    "tiles = ['35VLG']\n",
    "\n",
    "select_sat = 'sentinel'\n",
    "period_ini = '20160503'\n",
    "period_end = '20160503'\n",
    "    \n",
    "for tile in tiles:\n",
    "    output_dir = rf'Z:\\guser\\tml\\mypapers\\HLS_package_paper\\package_validation\\sentinel\\{tile}'\n",
    "    \n",
    "    if not os.path.exists(output_dir): os.makedirs\n",
    "    run_satwater(select_sat, tile, period_ini, period_end, output_dir, True, \"GCER\", False, \"rho\")"
   ],
   "metadata": {
    "collapsed": false,
    "ExecuteTime": {
     "end_time": "2025-03-14T21:26:04.227324200Z",
     "start_time": "2025-03-14T21:06:48.233629100Z"
    }
   },
   "id": "646607545a55bae0"
  }
 ],
 "metadata": {
  "kernelspec": {
   "display_name": "Python 3",
   "language": "python",
   "name": "python3"
  },
  "language_info": {
   "codemirror_mode": {
    "name": "ipython",
    "version": 2
   },
   "file_extension": ".py",
   "mimetype": "text/x-python",
   "name": "python",
   "nbconvert_exporter": "python",
   "pygments_lexer": "ipython2",
   "version": "2.7.6"
  }
 },
 "nbformat": 4,
 "nbformat_minor": 5
}
