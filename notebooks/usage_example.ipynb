{
 "cells": [
  {
   "cell_type": "code",
   "execution_count": 22,
   "outputs": [
    {
     "name": "stderr",
     "output_type": "stream",
     "text": [
      "C:\\Users\\tml411\\Documents\\Python Scripts\\hls_water\\src\\satwater\\aquavis_product_generator\\generate_aquavis.py:105: SyntaxWarning: invalid escape sequence '\\*'\n",
      "  scene_all_bands = glob.glob(f\"{scene_path}\\**.tif\")\n",
      "2025-03-19 14:09:39,792 - INFO - Output directory already exists: Z:\\guser\\tml\\mypapers\\HLS_package_paper\\package_validation\\landsat\\15RYN\n"
     ]
    },
    {
     "name": "stdout",
     "output_type": "stream",
     "text": [
      "LC08_L1TP_022039_20171026_20200902_02_T1\n"
     ]
    },
    {
     "name": "stderr",
     "output_type": "stream",
     "text": [
      "C:\\Users\\tml411\\Documents\\Python Scripts\\hls_water\\src\\satwater\\atmcor\\atmcor_water\\toolbox.py:194: UserWarning: Geometry is in a geographic CRS. Results from 'area' are likely incorrect. Use 'GeoSeries.to_crs()' to re-project geometries to a projected CRS before this operation.\n",
      "\n",
      "  gdf['area'] = gdf['geometry'].area\n",
      "2025-03-19 14:11:23,038 - INFO - Created 1 records\n"
     ]
    },
    {
     "ename": "KeyboardInterrupt",
     "evalue": "",
     "output_type": "error",
     "traceback": [
      "\u001B[1;31m---------------------------------------------------------------------------\u001B[0m",
      "\u001B[1;31mKeyboardInterrupt\u001B[0m                         Traceback (most recent call last)",
      "Cell \u001B[1;32mIn[1], line 14\u001B[0m\n\u001B[0;32m     11\u001B[0m output_dir \u001B[38;5;241m=\u001B[39m \u001B[38;5;124mrf\u001B[39m\u001B[38;5;124m'\u001B[39m\u001B[38;5;124mZ:\u001B[39m\u001B[38;5;124m\\\u001B[39m\u001B[38;5;124mguser\u001B[39m\u001B[38;5;124m\\\u001B[39m\u001B[38;5;124mtml\u001B[39m\u001B[38;5;124m\\\u001B[39m\u001B[38;5;124mmypapers\u001B[39m\u001B[38;5;124m\\\u001B[39m\u001B[38;5;124mHLS_package_paper\u001B[39m\u001B[38;5;124m\\\u001B[39m\u001B[38;5;124mpackage_validation\u001B[39m\u001B[38;5;124m\\\u001B[39m\u001B[38;5;124mlandsat\u001B[39m\u001B[38;5;124m\\\u001B[39m\u001B[38;5;132;01m{\u001B[39;00mtile\u001B[38;5;132;01m}\u001B[39;00m\u001B[38;5;124m'\u001B[39m\n\u001B[0;32m     13\u001B[0m \u001B[38;5;28;01mif\u001B[39;00m \u001B[38;5;129;01mnot\u001B[39;00m os\u001B[38;5;241m.\u001B[39mpath\u001B[38;5;241m.\u001B[39mexists(output_dir): os\u001B[38;5;241m.\u001B[39mmakedirs\n\u001B[1;32m---> 14\u001B[0m \u001B[43mrun_satwater\u001B[49m\u001B[43m(\u001B[49m\u001B[43mselect_sat\u001B[49m\u001B[43m,\u001B[49m\u001B[43m \u001B[49m\u001B[43mtile\u001B[49m\u001B[43m,\u001B[49m\u001B[43m \u001B[49m\u001B[43mperiod_ini\u001B[49m\u001B[43m,\u001B[49m\u001B[43m \u001B[49m\u001B[43mperiod_end\u001B[49m\u001B[43m,\u001B[49m\u001B[43m \u001B[49m\u001B[43moutput_dir\u001B[49m\u001B[43m,\u001B[49m\u001B[43m \u001B[49m\u001B[38;5;28;43;01mTrue\u001B[39;49;00m\u001B[43m,\u001B[49m\u001B[43m \u001B[49m\u001B[38;5;124;43m\"\u001B[39;49m\u001B[38;5;124;43mGCER\u001B[39;49m\u001B[38;5;124;43m\"\u001B[39;49m\u001B[43m,\u001B[49m\u001B[43m \u001B[49m\u001B[38;5;28;43;01mFalse\u001B[39;49;00m\u001B[43m,\u001B[49m\u001B[43m \u001B[49m\u001B[38;5;124;43m\"\u001B[39;49m\u001B[38;5;124;43mrho\u001B[39;49m\u001B[38;5;124;43m\"\u001B[39;49m\u001B[43m)\u001B[49m\n",
      "File \u001B[1;32m~\\Documents\\Python Scripts\\hls_water\\src\\run_aquavis.py:72\u001B[0m, in \u001B[0;36mrun_satwater\u001B[1;34m(select_sat, tile, period_ini, period_end, output_dir, keep_atmcor, input_toa, brdf_corr, output_type)\u001B[0m\n\u001B[0;32m     69\u001B[0m     SatWater_i\u001B[38;5;241m.\u001B[39mrun_atmcor_gee()  \u001B[38;5;66;03m# 1. Atmospheric correction using GEE as input TOA source\u001B[39;00m\n\u001B[0;32m     71\u001B[0m \u001B[38;5;28;01melse\u001B[39;00m:\n\u001B[1;32m---> 72\u001B[0m     \u001B[43mSatWater_i\u001B[49m\u001B[38;5;241;43m.\u001B[39;49m\u001B[43mrun_atmcor\u001B[49m\u001B[43m(\u001B[49m\u001B[43m)\u001B[49m \u001B[38;5;66;03m# 1. Atmospheric correction using local TOA source\u001B[39;00m\n\u001B[0;32m     74\u001B[0m \u001B[38;5;28;01mif\u001B[39;00m select_sat \u001B[38;5;241m==\u001B[39m \u001B[38;5;124m\"\u001B[39m\u001B[38;5;124mlandsat\u001B[39m\u001B[38;5;124m\"\u001B[39m:\n\u001B[0;32m     75\u001B[0m     SatWater_i\u001B[38;5;241m.\u001B[39mrun_tiling() \u001B[38;5;66;03m# 2. Tiling for Landsat\u001B[39;00m\n",
      "File \u001B[1;32m~\\Documents\\Python Scripts\\hls_water\\src\\satwater\\build_aquavis.py:63\u001B[0m, in \u001B[0;36mSatWater.run_atmcor\u001B[1;34m(self)\u001B[0m\n\u001B[0;32m     58\u001B[0m \u001B[38;5;250m\u001B[39m\u001B[38;5;124;03m\"\"\"\u001B[39;00m\n\u001B[0;32m     59\u001B[0m \u001B[38;5;124;03mPerform atmospheric correction using the 6S model.\u001B[39;00m\n\u001B[0;32m     60\u001B[0m \u001B[38;5;124;03m\"\"\"\u001B[39;00m\n\u001B[0;32m     62\u001B[0m \u001B[38;5;28mself\u001B[39m\u001B[38;5;241m.\u001B[39m_create_output_dir()\n\u001B[1;32m---> 63\u001B[0m \u001B[43matmcor\u001B[49m\u001B[38;5;241;43m.\u001B[39;49m\u001B[43mrun\u001B[49m\u001B[43m(\u001B[49m\u001B[38;5;28;43mself\u001B[39;49m\u001B[38;5;241;43m.\u001B[39;49m\u001B[43mselect_sat\u001B[49m\u001B[43m,\u001B[49m\u001B[43m \u001B[49m\u001B[38;5;28;43mself\u001B[39;49m\u001B[38;5;241;43m.\u001B[39;49m\u001B[43mparams\u001B[49m\u001B[43m)\u001B[49m\n\u001B[0;32m     64\u001B[0m \u001B[38;5;28mprint\u001B[39m(\u001B[38;5;124m\"\u001B[39m\u001B[38;5;124mAtmospheric correction completed successfully.\u001B[39m\u001B[38;5;124m\"\u001B[39m)\n",
      "File \u001B[1;32m~\\Documents\\Python Scripts\\hls_water\\src\\satwater\\atmcor\\atm6s.py:99\u001B[0m, in \u001B[0;36mrun\u001B[1;34m(select_sat, params)\u001B[0m\n\u001B[0;32m     97\u001B[0m \u001B[38;5;66;03m# Run in a for loop\u001B[39;00m\n\u001B[0;32m     98\u001B[0m \u001B[38;5;28;01mfor\u001B[39;00m img, output_path \u001B[38;5;129;01min\u001B[39;00m \u001B[38;5;28mzip\u001B[39m(all_imgs, output_paths):\n\u001B[1;32m---> 99\u001B[0m     \u001B[43mrun_gceratmos\u001B[49m\u001B[43m(\u001B[49m\u001B[43mimg\u001B[49m\u001B[43m,\u001B[49m\u001B[43m \u001B[49m\u001B[43moutput_path\u001B[49m\u001B[43m,\u001B[49m\u001B[43m \u001B[49m\u001B[43mselect_sat\u001B[49m\u001B[43m)\u001B[49m\n",
      "File \u001B[1;32m~\\Documents\\Python Scripts\\hls_water\\src\\satwater\\atmcor\\atmcor_water\\run_atmcor_water.py:21\u001B[0m, in \u001B[0;36mrun_gceratmos\u001B[1;34m(path_main, path_dest, satellite)\u001B[0m\n\u001B[0;32m     19\u001B[0m aero_type \u001B[38;5;241m=\u001B[39m \u001B[38;5;124m\"\u001B[39m\u001B[38;5;124mMaritime\u001B[39m\u001B[38;5;124m\"\u001B[39m\n\u001B[0;32m     20\u001B[0m gceratmos_r \u001B[38;5;241m=\u001B[39m Gceratmos(path_main, path_dest, networkdrive_letter, sat, aero_type, mode)\n\u001B[1;32m---> 21\u001B[0m \u001B[43mgceratmos_r\u001B[49m\u001B[38;5;241;43m.\u001B[39;49m\u001B[43mrun\u001B[49m\u001B[43m(\u001B[49m\u001B[43m)\u001B[49m\n\u001B[0;32m     22\u001B[0m \u001B[38;5;28mprint\u001B[39m(\u001B[38;5;124mf\u001B[39m\u001B[38;5;124m'\u001B[39m\u001B[38;5;124mGCER Atmos correction applied.\u001B[39m\u001B[38;5;124m'\u001B[39m)\n\u001B[0;32m     24\u001B[0m cloud_mask \u001B[38;5;241m=\u001B[39m Satcloud(path_main, sat, path_dest, fmask_env)\n",
      "File \u001B[1;32m~\\Documents\\Python Scripts\\hls_water\\src\\satwater\\atmcor\\atmcor_water\\atmcor_water.py:110\u001B[0m, in \u001B[0;36mGceratmos.run\u001B[1;34m(self)\u001B[0m\n\u001B[0;32m    106\u001B[0m \u001B[38;5;66;03m#tempdir = tool.newdirectory(dest, 'tempdir')\u001B[39;00m\n\u001B[0;32m    107\u001B[0m \n\u001B[0;32m    108\u001B[0m \u001B[38;5;66;03m# Metadata:\u001B[39;00m\n\u001B[0;32m    109\u001B[0m meta \u001B[38;5;241m=\u001B[39m Metadata_OLI_L89(\u001B[38;5;28mself\u001B[39m\u001B[38;5;241m.\u001B[39mpath_main, \u001B[38;5;28mself\u001B[39m\u001B[38;5;241m.\u001B[39mpath_dest, \u001B[38;5;28mself\u001B[39m\u001B[38;5;241m.\u001B[39mnetworkdrive_letter, \u001B[38;5;28mself\u001B[39m\u001B[38;5;241m.\u001B[39msatellite, \u001B[38;5;28mself\u001B[39m\u001B[38;5;241m.\u001B[39maero_type, \u001B[38;5;28mself\u001B[39m\u001B[38;5;241m.\u001B[39mmode)\n\u001B[1;32m--> 110\u001B[0m \u001B[43mmeta\u001B[49m\u001B[38;5;241;43m.\u001B[39;49m\u001B[43mrun\u001B[49m\u001B[43m(\u001B[49m\u001B[43m)\u001B[49m\n\u001B[0;32m    112\u001B[0m \u001B[38;5;66;03m# Atmospheric parameters:\u001B[39;00m\n\u001B[0;32m    113\u001B[0m atmos_param \u001B[38;5;241m=\u001B[39m Atmosphere(meta)\n",
      "File \u001B[1;32m~\\Documents\\Python Scripts\\hls_water\\src\\satwater\\atmcor\\atmcor_water\\metadata.py:265\u001B[0m, in \u001B[0;36mMetadata_OLI_L89.run\u001B[1;34m(self)\u001B[0m\n\u001B[0;32m    263\u001B[0m \u001B[38;5;28mself\u001B[39m\u001B[38;5;241m.\u001B[39mdate_and_time()\n\u001B[0;32m    264\u001B[0m \u001B[38;5;28mself\u001B[39m\u001B[38;5;241m.\u001B[39mgeo()\n\u001B[1;32m--> 265\u001B[0m \u001B[38;5;28;43mself\u001B[39;49m\u001B[38;5;241;43m.\u001B[39;49m\u001B[43mread_coefficient\u001B[49m\u001B[43m(\u001B[49m\u001B[43m)\u001B[49m\n\u001B[0;32m    266\u001B[0m \u001B[38;5;28mself\u001B[39m\u001B[38;5;241m.\u001B[39mrescale_factor()\n\u001B[0;32m    268\u001B[0m df \u001B[38;5;241m=\u001B[39m pd\u001B[38;5;241m.\u001B[39mDataFrame({\u001B[38;5;124m'\u001B[39m\u001B[38;5;124mimg\u001B[39m\u001B[38;5;124m'\u001B[39m: [\u001B[38;5;28mself\u001B[39m\u001B[38;5;241m.\u001B[39mpath_main], \u001B[38;5;124m'\u001B[39m\u001B[38;5;124maod\u001B[39m\u001B[38;5;124m'\u001B[39m: [\u001B[38;5;28mself\u001B[39m\u001B[38;5;241m.\u001B[39maod], \u001B[38;5;124m'\u001B[39m\u001B[38;5;124mwv\u001B[39m\u001B[38;5;124m'\u001B[39m: [\u001B[38;5;28mself\u001B[39m\u001B[38;5;241m.\u001B[39mwater_vapour], \u001B[38;5;124m'\u001B[39m\u001B[38;5;124moz\u001B[39m\u001B[38;5;124m'\u001B[39m: [\u001B[38;5;28mself\u001B[39m\u001B[38;5;241m.\u001B[39mozone], \u001B[38;5;124m'\u001B[39m\u001B[38;5;124malt\u001B[39m\u001B[38;5;124m'\u001B[39m: [\u001B[38;5;28mself\u001B[39m\u001B[38;5;241m.\u001B[39maltitude]})\n",
      "File \u001B[1;32m~\\Documents\\Python Scripts\\hls_water\\src\\satwater\\atmcor\\atmcor_water\\metadata.py:356\u001B[0m, in \u001B[0;36mMetadata_OLI_L89.read_coefficient\u001B[1;34m(self)\u001B[0m\n\u001B[0;32m    348\u001B[0m mcd_scanner \u001B[38;5;241m=\u001B[39m MCDExtractWindow(dir_mod08\u001B[38;5;241m=\u001B[39m\u001B[38;5;28mstr\u001B[39m(\u001B[38;5;28mself\u001B[39m\u001B[38;5;241m.\u001B[39mnetworkdrive_letter) \u001B[38;5;241m+\u001B[39m \u001B[38;5;28mself\u001B[39m\u001B[38;5;241m.\u001B[39mMOD08_D3,\n\u001B[0;32m    349\u001B[0m                                    dir_mde\u001B[38;5;241m=\u001B[39m\u001B[38;5;28mstr\u001B[39m(\u001B[38;5;28mself\u001B[39m\u001B[38;5;241m.\u001B[39mnetworkdrive_letter) \u001B[38;5;241m+\u001B[39m \u001B[38;5;28mself\u001B[39m\u001B[38;5;241m.\u001B[39mMDE,\n\u001B[0;32m    350\u001B[0m                                    dir_temp\u001B[38;5;241m=\u001B[39m\u001B[38;5;28mstr\u001B[39m(\u001B[38;5;28mself\u001B[39m\u001B[38;5;241m.\u001B[39mnetworkdrive_letter) \u001B[38;5;241m+\u001B[39m \u001B[38;5;28mself\u001B[39m\u001B[38;5;241m.\u001B[39mTEMP_COEF,\n\u001B[0;32m    351\u001B[0m                                    ini_date\u001B[38;5;241m=\u001B[39mstart_date,\n\u001B[0;32m    352\u001B[0m                                    end_date\u001B[38;5;241m=\u001B[39mend_date,\n\u001B[0;32m    353\u001B[0m                                    bounding_shp\u001B[38;5;241m=\u001B[39m\u001B[38;5;28mself\u001B[39m\u001B[38;5;241m.\u001B[39mroi)\n\u001B[0;32m    355\u001B[0m \u001B[38;5;66;03m# dataset_info_mcd19a2 = mcd_scanner.run_extraction_mcd19a2()\u001B[39;00m\n\u001B[1;32m--> 356\u001B[0m dataset_info_mod08 \u001B[38;5;241m=\u001B[39m \u001B[43mmcd_scanner\u001B[49m\u001B[38;5;241;43m.\u001B[39;49m\u001B[43mrun_extraction_mod08d3\u001B[49m\u001B[43m(\u001B[49m\u001B[43m)\u001B[49m\n\u001B[0;32m    357\u001B[0m dataset_info_mde \u001B[38;5;241m=\u001B[39m mcd_scanner\u001B[38;5;241m.\u001B[39mrun_extract_mde()\n\u001B[0;32m    359\u001B[0m \u001B[38;5;28mself\u001B[39m\u001B[38;5;241m.\u001B[39maod \u001B[38;5;241m=\u001B[39m \u001B[38;5;28mfloat\u001B[39m(dataset_info_mod08[\u001B[38;5;124m'\u001B[39m\u001B[38;5;124mAOD_mean\u001B[39m\u001B[38;5;124m'\u001B[39m]\u001B[38;5;241m.\u001B[39mmean())\n",
      "File \u001B[1;32m~\\Documents\\Python Scripts\\hls_water\\src\\satwater\\atmcor\\atmcor_water\\atm\\coefficient.py:52\u001B[0m, in \u001B[0;36mMCDExtractWindow.run_extraction_mod08d3\u001B[1;34m(self)\u001B[0m\n\u001B[0;32m     50\u001B[0m formatted_date \u001B[38;5;241m=\u001B[39m date_object\u001B[38;5;241m.\u001B[39mstrftime(\u001B[38;5;124m'\u001B[39m\u001B[38;5;124m%\u001B[39m\u001B[38;5;124mY-\u001B[39m\u001B[38;5;124m%\u001B[39m\u001B[38;5;124mm-\u001B[39m\u001B[38;5;132;01m%d\u001B[39;00m\u001B[38;5;124m'\u001B[39m)\n\u001B[0;32m     51\u001B[0m dict_values[\u001B[38;5;124m\"\u001B[39m\u001B[38;5;124mdate\u001B[39m\u001B[38;5;124m\"\u001B[39m] \u001B[38;5;241m=\u001B[39m formatted_date\n\u001B[1;32m---> 52\u001B[0m value_mean, value_std, valid_pixels \u001B[38;5;241m=\u001B[39m \u001B[38;5;28;43mself\u001B[39;49m\u001B[38;5;241;43m.\u001B[39;49m\u001B[43m_get_avg_std_raster\u001B[49m\u001B[43m(\u001B[49m\u001B[43mpath_oz\u001B[49m\u001B[43m[\u001B[49m\u001B[38;5;241;43m0\u001B[39;49m\u001B[43m]\u001B[49m\u001B[43m)\u001B[49m\n\u001B[0;32m     54\u001B[0m \u001B[38;5;28;01mif\u001B[39;00m value_mean \u001B[38;5;241m==\u001B[39m \u001B[38;5;241m-\u001B[39m\u001B[38;5;241m9999\u001B[39m:  \u001B[38;5;66;03m# no valid data on my intersection\u001B[39;00m\n\u001B[0;32m     55\u001B[0m     \u001B[38;5;28;01mcontinue\u001B[39;00m\n",
      "File \u001B[1;32m~\\Documents\\Python Scripts\\hls_water\\src\\satwater\\atmcor\\atmcor_water\\atm\\coefficient.py:136\u001B[0m, in \u001B[0;36mMCDExtractWindow._get_avg_std_raster\u001B[1;34m(self, path_raster)\u001B[0m\n\u001B[0;32m    134\u001B[0m subset, _ \u001B[38;5;241m=\u001B[39m mask(src, geom, nodata\u001B[38;5;241m=\u001B[39m\u001B[38;5;241m-\u001B[39m\u001B[38;5;241m9999\u001B[39m, crop\u001B[38;5;241m=\u001B[39m\u001B[38;5;28;01mTrue\u001B[39;00m, indexes\u001B[38;5;241m=\u001B[39m\u001B[38;5;241m1\u001B[39m)\n\u001B[0;32m    135\u001B[0m array_1d \u001B[38;5;241m=\u001B[39m subset\u001B[38;5;241m.\u001B[39mflatten()\n\u001B[1;32m--> 136\u001B[0m array_1d \u001B[38;5;241m=\u001B[39m \u001B[43marray_1d\u001B[49m[array_1d \u001B[38;5;241m!=\u001B[39m \u001B[38;5;241m-\u001B[39m\u001B[38;5;241m9999\u001B[39m]\n\u001B[0;32m    138\u001B[0m \u001B[38;5;28;01mif\u001B[39;00m array_1d\u001B[38;5;241m.\u001B[39msize \u001B[38;5;241m==\u001B[39m \u001B[38;5;241m0\u001B[39m:\n\u001B[0;32m    139\u001B[0m     mean_i \u001B[38;5;241m=\u001B[39m np\u001B[38;5;241m.\u001B[39mnan\n",
      "File \u001B[1;32m_pydevd_bundle\\\\pydevd_cython_win32_312_64.pyx:1179\u001B[0m, in \u001B[0;36m_pydevd_bundle.pydevd_cython_win32_312_64.SafeCallWrapper.__call__\u001B[1;34m()\u001B[0m\n",
      "File \u001B[1;32m_pydevd_bundle\\\\pydevd_cython_win32_312_64.pyx:620\u001B[0m, in \u001B[0;36m_pydevd_bundle.pydevd_cython_win32_312_64.PyDBFrame.trace_dispatch\u001B[1;34m()\u001B[0m\n",
      "File \u001B[1;32m_pydevd_bundle\\\\pydevd_cython_win32_312_64.pyx:1095\u001B[0m, in \u001B[0;36m_pydevd_bundle.pydevd_cython_win32_312_64.PyDBFrame.trace_dispatch\u001B[1;34m()\u001B[0m\n",
      "File \u001B[1;32m_pydevd_bundle\\\\pydevd_cython_win32_312_64.pyx:1057\u001B[0m, in \u001B[0;36m_pydevd_bundle.pydevd_cython_win32_312_64.PyDBFrame.trace_dispatch\u001B[1;34m()\u001B[0m\n",
      "File \u001B[1;32m_pydevd_bundle\\\\pydevd_cython_win32_312_64.pyx:317\u001B[0m, in \u001B[0;36m_pydevd_bundle.pydevd_cython_win32_312_64.PyDBFrame.do_wait_suspend\u001B[1;34m()\u001B[0m\n",
      "File \u001B[1;32mC:\\Program Files (x86)\\JetBrains\\PyCharm 2023.2.5\\plugins\\python\\helpers\\pydev\\pydevd.py:1160\u001B[0m, in \u001B[0;36mPyDB.do_wait_suspend\u001B[1;34m(self, thread, frame, event, arg, send_suspend_message, is_unhandled_exception)\u001B[0m\n\u001B[0;32m   1157\u001B[0m         from_this_thread\u001B[38;5;241m.\u001B[39mappend(frame_id)\n\u001B[0;32m   1159\u001B[0m \u001B[38;5;28;01mwith\u001B[39;00m \u001B[38;5;28mself\u001B[39m\u001B[38;5;241m.\u001B[39m_threads_suspended_single_notification\u001B[38;5;241m.\u001B[39mnotify_thread_suspended(thread_id, stop_reason):\n\u001B[1;32m-> 1160\u001B[0m     \u001B[38;5;28;43mself\u001B[39;49m\u001B[38;5;241;43m.\u001B[39;49m\u001B[43m_do_wait_suspend\u001B[49m\u001B[43m(\u001B[49m\u001B[43mthread\u001B[49m\u001B[43m,\u001B[49m\u001B[43m \u001B[49m\u001B[43mframe\u001B[49m\u001B[43m,\u001B[49m\u001B[43m \u001B[49m\u001B[43mevent\u001B[49m\u001B[43m,\u001B[49m\u001B[43m \u001B[49m\u001B[43marg\u001B[49m\u001B[43m,\u001B[49m\u001B[43m \u001B[49m\u001B[43msuspend_type\u001B[49m\u001B[43m,\u001B[49m\u001B[43m \u001B[49m\u001B[43mfrom_this_thread\u001B[49m\u001B[43m)\u001B[49m\n",
      "File \u001B[1;32mC:\\Program Files (x86)\\JetBrains\\PyCharm 2023.2.5\\plugins\\python\\helpers\\pydev\\pydevd.py:1175\u001B[0m, in \u001B[0;36mPyDB._do_wait_suspend\u001B[1;34m(self, thread, frame, event, arg, suspend_type, from_this_thread)\u001B[0m\n\u001B[0;32m   1172\u001B[0m             \u001B[38;5;28mself\u001B[39m\u001B[38;5;241m.\u001B[39m_call_mpl_hook()\n\u001B[0;32m   1174\u001B[0m         \u001B[38;5;28mself\u001B[39m\u001B[38;5;241m.\u001B[39mprocess_internal_commands()\n\u001B[1;32m-> 1175\u001B[0m         \u001B[43mtime\u001B[49m\u001B[38;5;241;43m.\u001B[39;49m\u001B[43msleep\u001B[49m\u001B[43m(\u001B[49m\u001B[38;5;241;43m0.01\u001B[39;49m\u001B[43m)\u001B[49m\n\u001B[0;32m   1177\u001B[0m \u001B[38;5;28mself\u001B[39m\u001B[38;5;241m.\u001B[39mcancel_async_evaluation(get_current_thread_id(thread), \u001B[38;5;28mstr\u001B[39m(\u001B[38;5;28mid\u001B[39m(frame)))\n\u001B[0;32m   1179\u001B[0m \u001B[38;5;66;03m# process any stepping instructions\u001B[39;00m\n",
      "\u001B[1;31mKeyboardInterrupt\u001B[0m: "
     ]
    }
   ],
   "source": [
    "import os\n",
    "from src.run_aquavis import run_satwater\n",
    "\n",
    "tiles = ['15RYN']\n",
    "\n",
    "select_sat = 'landsat'\n",
    "period_ini = '20171026'\n",
    "period_end = '20171026'\n",
    "    \n",
    "for tile in tiles:\n",
    "    output_dir = rf'Z:\\guser\\tml\\mypapers\\HLS_package_paper\\package_validation\\landsat\\{tile}'\n",
    "    \n",
    "    if not os.path.exists(output_dir): os.makedirs\n",
    "    run_satwater(select_sat, tile, period_ini, period_end, output_dir, True, \"GCER\", False, \"rho\")"
   ],
   "metadata": {
    "collapsed": false,
    "ExecuteTime": {
     "end_time": "2025-03-19T19:40:51.959579200Z",
     "start_time": "2025-03-19T19:09:20.297815400Z"
    }
   },
   "id": "646607545a55bae0"
  }
 ],
 "metadata": {
  "kernelspec": {
   "display_name": "Python 3",
   "language": "python",
   "name": "python3"
  },
  "language_info": {
   "codemirror_mode": {
    "name": "ipython",
    "version": 2
   },
   "file_extension": ".py",
   "mimetype": "text/x-python",
   "name": "python",
   "nbconvert_exporter": "python",
   "pygments_lexer": "ipython2",
   "version": "2.7.6"
  }
 },
 "nbformat": 4,
 "nbformat_minor": 5
}
