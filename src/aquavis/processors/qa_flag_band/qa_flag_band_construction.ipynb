{
 "cells": [
  {
   "cell_type": "code",
   "execution_count": 1,
   "outputs": [
    {
     "name": "stdout",
     "output_type": "stream",
     "text": [
      "water mask loaded.\n",
      "cloud mask loaded.\n",
      "shadow mask loaded.\n",
      "glint mask loaded.\n",
      "swir_negative mask loaded.\n",
      "blue_negative mask loaded.\n",
      "green_negative mask loaded.\n",
      "red_negative mask loaded.\n",
      "nir_negative mask loaded.\n"
     ]
    }
   ],
   "source": [
    "import os\n",
    "import rioxarray as rxr\n",
    "\n",
    "# Define main path\n",
    "main_path = r\"Z:\\guser\\tml\\mypapers\\HLS_package_paper\\package_validation\\sentinel\\21HVB\\QA_flags\\S2A_MSIL1C_20230103T134701_N0509_R024_T21HVB_20230103T170831.SAFE\"\n",
    "files = os.listdir(main_path)\n",
    "\n",
    "# Find water band\n",
    "water_band = next((band for band in files if \"_water\" in band), None)\n",
    "water_mask = rxr.open_rasterio(os.path.join(main_path, water_band)) if water_band else None\n",
    "\n",
    "# Initialize masks dictionary\n",
    "masks = {\n",
    "    \"water\": None,\n",
    "    \"cloud\": None,\n",
    "    \"shadow\": None,\n",
    "    \"glint\": None,\n",
    "    \"swir_negative\": None,\n",
    "    \"blue_negative\": None,\n",
    "    \"green_negative\": None,\n",
    "    \"red_negative\": None,\n",
    "    \"nir_negative\": None,\n",
    "}\n",
    "\n",
    "# File mapping for easy handling\n",
    "file_mapping = {\n",
    "    \"_cloud_shadow.tif\": \"cloud_shadow\",\n",
    "    \"_glint_mask.tif\": \"glint\",\n",
    "    \"_swir_negative.tif\": \"swir_negative\",\n",
    "    \"_vnir_neg_0.tif\": \"blue_negative\",\n",
    "    \"_vnir_neg_1.tif\": \"green_negative\",\n",
    "    \"_vnir_neg_2.tif\": \"red_negative\",\n",
    "    \"_vnir_neg_3.tif\": \"nir_negative\",\n",
    "}\n",
    "\n",
    "masks[\"water\"] = water_mask\n",
    "\n",
    "# Process files\n",
    "for file in files:\n",
    "    for suffix, key in file_mapping.items():\n",
    "        if file.endswith(suffix):\n",
    "            file_path = os.path.join(main_path, file)\n",
    "            data = rxr.open_rasterio(file_path)\n",
    "            data = data.rio.reproject_match(water_mask)\n",
    "            \n",
    "            if key == \"cloud_shadow\":\n",
    "                masks[\"cloud\"] = (data == 2).astype(int)\n",
    "                masks[\"shadow\"] = (data == 3).astype(int)\n",
    "            else:\n",
    "                masks[key] = data"
   ],
   "metadata": {
    "collapsed": false,
    "ExecuteTime": {
     "end_time": "2025-03-25T14:33:20.925031700Z",
     "start_time": "2025-03-25T14:31:58.754775300Z"
    }
   },
   "id": "266efb3ead987b73"
  },
  {
   "cell_type": "code",
   "execution_count": 3,
   "outputs": [],
   "source": [
    "def create_qa_bitmask(water, cloud, shadow, glint_neg, neg_blue, neg_green, neg_red, neg_nir, neg_swir):\n",
    "    \n",
    "    # Encode cloud and shadow together (00 = clear, 01 = shadow, 10 = cloud, 11 = cloud + shadow)\n",
    "    cloud_shadow = (cloud.astype(int) << 1) | (shadow.astype(int))\n",
    "    \n",
    "    # Construct the QA band with the new flags\n",
    "    qa_band = (\n",
    "        (water.astype(int) << 0) |         # Bit 0: Water\n",
    "        (cloud_shadow << 1) |             # Bits 1-2: Cloud/Shadow Combined\n",
    "        (glint_neg.astype(int) << 3) |    # Bit 3: Glint Correction\n",
    "        (neg_blue.astype(int) << 4) |     # Bit 4: Negative Blue\n",
    "        (neg_green.astype(int) << 5) |    # Bit 5: Negative Green\n",
    "        (neg_red.astype(int) << 6) |      # Bit 6: Negative Red\n",
    "        (neg_nir.astype(int) << 7) |      # Bit 7: Negative NIR\n",
    "        (neg_swir.astype(int) << 8)       # Bit 8: Negative SWIR\n",
    "    )\n",
    "    \n",
    "    return qa_band\n",
    "\n",
    "# Example usage:\n",
    "qa_band = create_qa_bitmask(masks[\"water\"], masks[\"cloud\"], masks[\"shadow\"], masks[\"glint\"], masks[\"blue_negative\"], masks[\"green_negative\"], masks[\"red_negative\"], masks[\"nir_negative\"], masks[\"swir_negative\"])"
   ],
   "metadata": {
    "collapsed": false,
    "ExecuteTime": {
     "end_time": "2025-03-25T14:35:56.378199600Z",
     "start_time": "2025-03-25T14:35:52.848862600Z"
    }
   },
   "id": "a15c78bbf9afb90b"
  },
  {
   "cell_type": "code",
   "execution_count": 4,
   "outputs": [],
   "source": [
    "qa_band.rio.to_raster(r\"Z:\\guser\\tml\\mypapers\\HLS_package_paper\\package_validation\\sentinel\\21HVB\\QA_flags\\qa_band.tif\")"
   ],
   "metadata": {
    "collapsed": false,
    "ExecuteTime": {
     "end_time": "2025-03-25T14:36:09.432964700Z",
     "start_time": "2025-03-25T14:36:07.973901900Z"
    }
   },
   "id": "79031f19c89220a0"
  },
  {
   "cell_type": "code",
   "execution_count": 7,
   "outputs": [],
   "source": [
    "import rasterio\n",
    "import numpy as np\n",
    "\n",
    "def extract_mask(input_tiff, output_tiff, bit_range, bit_value):\n",
    "    \n",
    "    \"\"\"\n",
    "    Extract a mask from a GeoTIFF based on a specific bit range and bit value.\n",
    "\n",
    "    Parameters:\n",
    "    - input_tiff: Path to the input GeoTIFF file.\n",
    "    - output_tiff: Path to save the output GeoTIFF file with the mask.\n",
    "    - bit_range: A tuple (start_bit, end_bit) representing the bit range to extract (inclusive).\n",
    "    - bit_value: The binary value to match in the selected bit range (e.g., '111').\n",
    "    \"\"\"\n",
    "    \n",
    "    # Step 1: Open the GeoTIFF\n",
    "    with rasterio.open(input_tiff) as src:\n",
    "        # Step 2: Read the image data (first band)\n",
    "        image_data = src.read(1)\n",
    "\n",
    "        # Step 3: Calculate the bitmask for the selected bit range\n",
    "        start_bit, end_bit = bit_range\n",
    "        num_bits = end_bit - start_bit + 1\n",
    "\n",
    "        # Create the mask to extract the bits\n",
    "        bitmask = (1 << num_bits) - 1  # e.g., for 3 bits: 111 (binary), which is 7 in decimal (2^0, 2^1, 2^2)\n",
    "\n",
    "        # Shift the relevant bits to the right\n",
    "        extracted_bits = (image_data >> start_bit) & bitmask\n",
    "\n",
    "        # Convert the bit_value string (e.g., '111') to an integer\n",
    "        bit_value_int = int(bit_value, 2)\n",
    "\n",
    "        # Step 4: Create a binary mask where the extracted bits match the given bit_value\n",
    "        mask = np.where(extracted_bits == bit_value_int, 1, 0)\n",
    "\n",
    "        # Step 5: Write the mask to a new GeoTIFF file\n",
    "        profile = src.profile\n",
    "        profile.update(dtype=rasterio.uint16, count=1)\n",
    "\n",
    "        with rasterio.open(output_tiff, 'w', **profile) as dst:\n",
    "            dst.write(mask.astype(rasterio.uint16), 1)\n",
    "\n",
    "    print(f\"Mask for bit range {bit_range} and value {bit_value} exported as {output_tiff}\")"
   ],
   "metadata": {
    "collapsed": false,
    "ExecuteTime": {
     "end_time": "2025-03-25T14:39:55.083493600Z",
     "start_time": "2025-03-25T14:39:55.080021100Z"
    }
   },
   "id": "3b9b8ba5c4d9bfd4"
  },
  {
   "cell_type": "code",
   "execution_count": 9,
   "outputs": [
    {
     "name": "stdout",
     "output_type": "stream",
     "text": [
      "Mask for bit range (1, 2) and value 10 exported as Z:\\guser\\tml\\mypapers\\HLS_package_paper\\package_validation\\sentinel\\21HVB\\QA_flags\\qa_band_value.tif\n"
     ]
    }
   ],
   "source": [
    "extract_mask(r\"Z:\\guser\\tml\\mypapers\\HLS_package_paper\\package_validation\\sentinel\\21HVB\\QA_flags\\qa_band.tif\", r\"Z:\\guser\\tml\\mypapers\\HLS_package_paper\\package_validation\\sentinel\\21HVB\\QA_flags\\qa_band_value.tif\", bit_range=(1,2), bit_value='10')"
   ],
   "metadata": {
    "collapsed": false,
    "ExecuteTime": {
     "end_time": "2025-03-25T14:40:51.586440300Z",
     "start_time": "2025-03-25T14:40:49.646601Z"
    }
   },
   "id": "6f08d4642f7625e3"
  },
  {
   "cell_type": "code",
   "execution_count": null,
   "outputs": [],
   "source": [],
   "metadata": {
    "collapsed": false
   },
   "id": "a1c3931a5024966b"
  }
 ],
 "metadata": {
  "kernelspec": {
   "display_name": "Python 3",
   "language": "python",
   "name": "python3"
  },
  "language_info": {
   "codemirror_mode": {
    "name": "ipython",
    "version": 2
   },
   "file_extension": ".py",
   "mimetype": "text/x-python",
   "name": "python",
   "nbconvert_exporter": "python",
   "pygments_lexer": "ipython2",
   "version": "2.7.6"
  }
 },
 "nbformat": 4,
 "nbformat_minor": 5
}
